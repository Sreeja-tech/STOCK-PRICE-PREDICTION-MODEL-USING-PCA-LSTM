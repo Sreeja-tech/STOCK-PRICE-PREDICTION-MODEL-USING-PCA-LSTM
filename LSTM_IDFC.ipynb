{
 "cells": [
  {
   "cell_type": "code",
   "execution_count": 1,
   "id": "ede4d2a3",
   "metadata": {},
   "outputs": [],
   "source": [
    "import pandas as pd\n",
    "import numpy as np\n",
    "import matplotlib.pyplot as plt"
   ]
  },
  {
   "cell_type": "code",
   "execution_count": 2,
   "id": "fe86513a",
   "metadata": {},
   "outputs": [
    {
     "data": {
      "text/html": [
       "<div>\n",
       "<style scoped>\n",
       "    .dataframe tbody tr th:only-of-type {\n",
       "        vertical-align: middle;\n",
       "    }\n",
       "\n",
       "    .dataframe tbody tr th {\n",
       "        vertical-align: top;\n",
       "    }\n",
       "\n",
       "    .dataframe thead th {\n",
       "        text-align: right;\n",
       "    }\n",
       "</style>\n",
       "<table border=\"1\" class=\"dataframe\">\n",
       "  <thead>\n",
       "    <tr style=\"text-align: right;\">\n",
       "      <th></th>\n",
       "      <th>Date</th>\n",
       "      <th>Open</th>\n",
       "      <th>High</th>\n",
       "      <th>Low</th>\n",
       "      <th>Close</th>\n",
       "      <th>Adj Close</th>\n",
       "      <th>Volume</th>\n",
       "      <th>Returns</th>\n",
       "    </tr>\n",
       "  </thead>\n",
       "  <tbody>\n",
       "    <tr>\n",
       "      <th>0</th>\n",
       "      <td>16-10-2017</td>\n",
       "      <td>59.500000</td>\n",
       "      <td>59.549999</td>\n",
       "      <td>57.799999</td>\n",
       "      <td>57.950001</td>\n",
       "      <td>56.770557</td>\n",
       "      <td>8423731</td>\n",
       "      <td>NaN</td>\n",
       "    </tr>\n",
       "    <tr>\n",
       "      <th>1</th>\n",
       "      <td>17-10-2017</td>\n",
       "      <td>58.200001</td>\n",
       "      <td>58.349998</td>\n",
       "      <td>57.400002</td>\n",
       "      <td>57.450001</td>\n",
       "      <td>56.280735</td>\n",
       "      <td>5056385</td>\n",
       "      <td>-0.862810</td>\n",
       "    </tr>\n",
       "    <tr>\n",
       "      <th>2</th>\n",
       "      <td>18-10-2017</td>\n",
       "      <td>57.150002</td>\n",
       "      <td>57.599998</td>\n",
       "      <td>56.099998</td>\n",
       "      <td>56.299999</td>\n",
       "      <td>55.154137</td>\n",
       "      <td>12850940</td>\n",
       "      <td>-2.001747</td>\n",
       "    </tr>\n",
       "    <tr>\n",
       "      <th>3</th>\n",
       "      <td>19-10-2017</td>\n",
       "      <td>56.400002</td>\n",
       "      <td>56.700001</td>\n",
       "      <td>56.000000</td>\n",
       "      <td>56.250000</td>\n",
       "      <td>55.105156</td>\n",
       "      <td>2039693</td>\n",
       "      <td>-0.088807</td>\n",
       "    </tr>\n",
       "    <tr>\n",
       "      <th>4</th>\n",
       "      <td>23-10-2017</td>\n",
       "      <td>56.700001</td>\n",
       "      <td>56.700001</td>\n",
       "      <td>55.900002</td>\n",
       "      <td>56.400002</td>\n",
       "      <td>55.252106</td>\n",
       "      <td>5292732</td>\n",
       "      <td>0.266672</td>\n",
       "    </tr>\n",
       "  </tbody>\n",
       "</table>\n",
       "</div>"
      ],
      "text/plain": [
       "         Date       Open       High        Low      Close  Adj Close  \\\n",
       "0  16-10-2017  59.500000  59.549999  57.799999  57.950001  56.770557   \n",
       "1  17-10-2017  58.200001  58.349998  57.400002  57.450001  56.280735   \n",
       "2  18-10-2017  57.150002  57.599998  56.099998  56.299999  55.154137   \n",
       "3  19-10-2017  56.400002  56.700001  56.000000  56.250000  55.105156   \n",
       "4  23-10-2017  56.700001  56.700001  55.900002  56.400002  55.252106   \n",
       "\n",
       "     Volume   Returns  \n",
       "0   8423731       NaN  \n",
       "1   5056385 -0.862810  \n",
       "2  12850940 -2.001747  \n",
       "3   2039693 -0.088807  \n",
       "4   5292732  0.266672  "
      ]
     },
     "execution_count": 2,
     "metadata": {},
     "output_type": "execute_result"
    }
   ],
   "source": [
    "df = pd.read_csv(r\"C:\\Users\\SREEJA\\Downloads\\IDFCFIRSTB.NS.csv\")\n",
    "df.head()"
   ]
  },
  {
   "cell_type": "code",
   "execution_count": 3,
   "id": "a864c1cd",
   "metadata": {},
   "outputs": [],
   "source": [
    "df1 = df.reset_index()[\"Close\"]"
   ]
  },
  {
   "cell_type": "code",
   "execution_count": 4,
   "id": "073a826f",
   "metadata": {},
   "outputs": [
    {
     "data": {
      "text/plain": [
       "0       57.950001\n",
       "1       57.450001\n",
       "2       56.299999\n",
       "3       56.250000\n",
       "4       56.400002\n",
       "          ...    \n",
       "1231    53.750000\n",
       "1232    53.099998\n",
       "1233    55.099998\n",
       "1234    54.450001\n",
       "1235    54.299999\n",
       "Name: Close, Length: 1236, dtype: float64"
      ]
     },
     "execution_count": 4,
     "metadata": {},
     "output_type": "execute_result"
    }
   ],
   "source": [
    "df1"
   ]
  },
  {
   "cell_type": "code",
   "execution_count": 5,
   "id": "3bbde3ca",
   "metadata": {},
   "outputs": [
    {
     "data": {
      "text/plain": [
       "(1236,)"
      ]
     },
     "execution_count": 5,
     "metadata": {},
     "output_type": "execute_result"
    }
   ],
   "source": [
    "df1.shape"
   ]
  },
  {
   "cell_type": "code",
   "execution_count": 6,
   "id": "1afa1df3",
   "metadata": {},
   "outputs": [
    {
     "data": {
      "text/plain": [
       "[<matplotlib.lines.Line2D at 0x1bfde62c790>]"
      ]
     },
     "execution_count": 6,
     "metadata": {},
     "output_type": "execute_result"
    },
    {
     "data": {
      "image/png": "[encoded data removed]",
      "text/plain": [
       "<Figure size 432x288 with 1 Axes>"
      ]
     },
     "metadata": {
      "needs_background": "light"
     },
     "output_type": "display_data"
    }
   ],
   "source": [
    "plt.plot(df1)"
   ]
  },
  {
   "cell_type": "code",
   "execution_count": 7,
   "id": "bb3bcfa7",
   "metadata": {},
   "outputs": [],
   "source": [
    "# LSTM are very sensitive to the scale of the data.\n",
    "# So we apply MinMax Scaler to transform our values between 0 to 1\n",
    "from sklearn.preprocessing import MinMaxScaler\n",
    "scaler= MinMaxScaler(feature_range=(0,1))\n",
    "df1 = scaler.fit_transform(np.array(df1).reshape(-1,1)) # to provide input to fit_transform"
   ]
  },
  {
   "cell_type": "code",
   "execution_count": 8,
   "id": "8bad48aa",
   "metadata": {},
   "outputs": [
    {
     "data": {
      "text/plain": [
       "(1236, 1)"
      ]
     },
     "execution_count": 8,
     "metadata": {},
     "output_type": "execute_result"
    }
   ],
   "source": [
    "df1.shape\n"
   ]
  },
  {
   "cell_type": "code",
   "execution_count": 9,
   "id": "e8422a7c",
   "metadata": {},
   "outputs": [
    {
     "data": {
      "text/plain": [
       "array([[0.78968251],\n",
       "       [0.77976188],\n",
       "       [0.75694438],\n",
       "       ...,\n",
       "       [0.73313484],\n",
       "       [0.72023807],\n",
       "       [0.71726184]])"
      ]
     },
     "execution_count": 9,
     "metadata": {},
     "output_type": "execute_result"
    }
   ],
   "source": [
    "# All values are transformed between 0 to 1 after applying MinMax\n",
    "df1"
   ]
  },
  {
   "cell_type": "code",
   "execution_count": 10,
   "id": "ab8e35bc",
   "metadata": {},
   "outputs": [],
   "source": [
    "# DATASET PREPROCESSING\n",
    "# Train and Test Split\n",
    "training_size = int(len(df1)*0.65) # 65% training data size\n",
    "test_size = len(df1) - training_size # 35% test data size"
   ]
  },
  {
   "cell_type": "code",
   "execution_count": 11,
   "id": "fd3b3c63",
   "metadata": {},
   "outputs": [
    {
     "data": {
      "text/plain": [
       "(803, 433)"
      ]
     },
     "execution_count": 11,
     "metadata": {},
     "output_type": "execute_result"
    }
   ],
   "source": [
    "training_size,test_size "
   ]
  },
  {
   "cell_type": "code",
   "execution_count": 12,
   "id": "9395712b",
   "metadata": {},
   "outputs": [],
   "source": [
    "# Till 803th it will get stored under train_data\n",
    "# Remaining data will get stored under test_data\n",
    "train_data,test_data = df1[0:training_size,:],df1[training_size:len(df1),:1]"
   ]
  },
  {
   "cell_type": "code",
   "execution_count": 13,
   "id": "378aa41e",
   "metadata": {},
   "outputs": [
    {
     "data": {
      "text/plain": [
       "803"
      ]
     },
     "execution_count": 13,
     "metadata": {},
     "output_type": "execute_result"
    }
   ],
   "source": [
    "len(train_data) # checking the size"
   ]
  },
  {
   "cell_type": "code",
   "execution_count": 14,
   "id": "185b123c",
   "metadata": {},
   "outputs": [
    {
     "data": {
      "text/plain": [
       "433"
      ]
     },
     "execution_count": 14,
     "metadata": {},
     "output_type": "execute_result"
    }
   ],
   "source": [
    "len(test_data) # checking the size"
   ]
  },
  {
   "cell_type": "code",
   "execution_count": 15,
   "id": "703e2494",
   "metadata": {},
   "outputs": [],
   "source": [
    "# convert an array of values into a dataset matrix\n",
    "def create_dataset(dataset,time_step=1):\n",
    "    dataX,dataY = [],[]\n",
    "    for i in range(len(dataset)-time_step-1): # traversing through the dataset\n",
    "        a = dataset[i:(i+time_step),0] # based on our time step we are putting data into x and y\n",
    "        dataX.append(a)\n",
    "        dataY.append(dataset[i + time_step,0])\n",
    "    return np.array(dataX),np.array(dataY)"
   ]
  },
  {
   "cell_type": "code",
   "execution_count": 16,
   "id": "06c5e2e3",
   "metadata": {},
   "outputs": [],
   "source": [
    "time_step = 100\n",
    "X_train,y_train = create_dataset(train_data,time_step)\n",
    "X_test, ytest = create_dataset(test_data,time_step)"
   ]
  },
  {
   "cell_type": "code",
   "execution_count": 17,
   "id": "df254c21",
   "metadata": {},
   "outputs": [
    {
     "name": "stdout",
     "output_type": "stream",
     "text": [
      "[[0.78968251 0.77976188 0.75694438 ... 0.61011905 0.62103173 0.63095236]\n",
      " [0.77976188 0.75694438 0.75595234 ... 0.62103173 0.63095236 0.62698409]\n",
      " [0.75694438 0.75595234 0.75892857 ... 0.63095236 0.62698409 0.63492064]\n",
      " ...\n",
      " [0.25793649 0.25396826 0.25297618 ... 0.46130954 0.54861106 0.52083334]\n",
      " [0.25396826 0.25297618 0.2777778  ... 0.54861106 0.52083334 0.52182539]\n",
      " [0.25297618 0.2777778  0.27380953 ... 0.52083334 0.52182539 0.57539683]]\n"
     ]
    }
   ],
   "source": [
    "print(X_train)"
   ]
  },
  {
   "cell_type": "code",
   "execution_count": 18,
   "id": "865d96c1",
   "metadata": {},
   "outputs": [
    {
     "name": "stdout",
     "output_type": "stream",
     "text": [
      "[[0.60119046 0.5654762  0.63492064 ... 0.8373015  0.83134914 0.81944442]\n",
      " [0.5654762  0.63492064 0.66071427 ... 0.83134914 0.81944442 0.82242055]\n",
      " [0.63492064 0.66071427 0.62599205 ... 0.81944442 0.82242055 0.80158723]\n",
      " ...\n",
      " [0.36309524 0.33432538 0.35416665 ... 0.71726184 0.69146821 0.70634916]\n",
      " [0.33432538 0.35416665 0.34722224 ... 0.69146821 0.70634916 0.6934523 ]\n",
      " [0.35416665 0.34722224 0.33432538 ... 0.70634916 0.6934523  0.73313484]]\n"
     ]
    }
   ],
   "source": [
    "print(X_test)"
   ]
  },
  {
   "cell_type": "code",
   "execution_count": 19,
   "id": "39c34cd9",
   "metadata": {},
   "outputs": [
    {
     "name": "stdout",
     "output_type": "stream",
     "text": [
      "(332, 100)\n",
      "(332,)\n"
     ]
    },
    {
     "data": {
      "text/plain": [
       "(None, None)"
      ]
     },
     "execution_count": 19,
     "metadata": {},
     "output_type": "execute_result"
    }
   ],
   "source": [
    "print(X_test.shape),print(ytest.shape)"
   ]
  },
  {
   "cell_type": "code",
   "execution_count": 20,
   "id": "bc62292d",
   "metadata": {},
   "outputs": [
    {
     "name": "stdout",
     "output_type": "stream",
     "text": [
      "(702, 100)\n",
      "(702,)\n"
     ]
    },
    {
     "data": {
      "text/plain": [
       "(None, None)"
      ]
     },
     "execution_count": 20,
     "metadata": {},
     "output_type": "execute_result"
    }
   ],
   "source": [
    "print(X_train.shape),print(y_train.shape)"
   ]
  },
  {
   "cell_type": "code",
   "execution_count": 21,
   "id": "db53e6df",
   "metadata": {},
   "outputs": [],
   "source": [
    "# We need to convert this into 3D for LSTM\n",
    "# reshape input to be [samples,time steps,features] which is required for LSTM\n",
    "X_train =X_train.reshape(X_train.shape[0],X_train.shape[1] , 1)  #samples,time steps,features\n",
    "X_test = X_test.reshape(X_test.shape[0],X_test.shape[1] , 1)"
   ]
  },
  {
   "cell_type": "code",
   "execution_count": 22,
   "id": "635526fb",
   "metadata": {},
   "outputs": [
    {
     "data": {
      "text/plain": [
       "(702, 100, 1)"
      ]
     },
     "execution_count": 22,
     "metadata": {},
     "output_type": "execute_result"
    }
   ],
   "source": [
    "X_train.shape\n"
   ]
  },
  {
   "cell_type": "code",
   "execution_count": 23,
   "id": "ad424e31",
   "metadata": {},
   "outputs": [],
   "source": [
    "# Create LSTM MODEL\n",
    "from tensorflow.keras.models import Sequential\n",
    "from tensorflow.keras.layers import Dense\n",
    "from tensorflow.keras.layers import LSTM"
   ]
  },
  {
   "cell_type": "code",
   "execution_count": 24,
   "id": "b29eb653",
   "metadata": {},
   "outputs": [],
   "source": [
    "# Stacked LSTM MODEL (1 lstm after another)\n",
    "model=Sequential()\n",
    "model.add(LSTM(50,return_sequences=True,input_shape=(100,1)))\n",
    "model.add(LSTM(50,return_sequences=True))\n",
    "model.add(LSTM(50))\n",
    "model.add(Dense(1))\n",
    "model.compile(loss='mean_squared_error',optimizer='adam')"
   ]
  },
  {
   "cell_type": "code",
   "execution_count": 25,
   "id": "a4929198",
   "metadata": {},
   "outputs": [
    {
     "name": "stdout",
     "output_type": "stream",
     "text": [
      "Model: \"sequential\"\n",
      "_________________________________________________________________\n",
      " Layer (type)                Output Shape              Param #   \n",
      "=================================================================\n",
      " lstm (LSTM)                 (None, 100, 50)           10400     \n",
      "                                                                 \n",
      " lstm_1 (LSTM)               (None, 100, 50)           20200     \n",
      "                                                                 \n",
      " lstm_2 (LSTM)               (None, 50)                20200     \n",
      "                                                                 \n",
      " dense (Dense)               (None, 1)                 51        \n",
      "                                                                 \n",
      "=================================================================\n",
      "Total params: 50,851\n",
      "Trainable params: 50,851\n",
      "Non-trainable params: 0\n",
      "_________________________________________________________________\n"
     ]
    }
   ],
   "source": [
    "model.summary()"
   ]
  },
  {
   "cell_type": "code",
   "execution_count": 26,
   "id": "d71f4ef6",
   "metadata": {},
   "outputs": [
    {
     "name": "stdout",
     "output_type": "stream",
     "text": [
      "Epoch 1/100\n",
      "11/11 [==============================] - 18s 629ms/step - loss: 0.0568 - val_loss: 0.0117\n",
      "Epoch 2/100\n",
      "11/11 [==============================] - 4s 334ms/step - loss: 0.0114 - val_loss: 0.0052\n",
      "Epoch 3/100\n",
      "11/11 [==============================] - 4s 350ms/step - loss: 0.0076 - val_loss: 0.0107\n",
      "Epoch 4/100\n",
      "11/11 [==============================] - 4s 336ms/step - loss: 0.0058 - val_loss: 0.0042\n",
      "Epoch 5/100\n",
      "11/11 [==============================] - 4s 329ms/step - loss: 0.0048 - val_loss: 0.0036\n",
      "Epoch 6/100\n",
      "11/11 [==============================] - 4s 368ms/step - loss: 0.0044 - val_loss: 0.0035\n",
      "Epoch 7/100\n",
      "11/11 [==============================] - 4s 362ms/step - loss: 0.0041 - val_loss: 0.0034\n",
      "Epoch 8/100\n",
      "11/11 [==============================] - 4s 380ms/step - loss: 0.0038 - val_loss: 0.0045\n",
      "Epoch 9/100\n",
      "11/11 [==============================] - 4s 376ms/step - loss: 0.0036 - val_loss: 0.0040\n",
      "Epoch 10/100\n",
      "11/11 [==============================] - 4s 365ms/step - loss: 0.0034 - val_loss: 0.0029\n",
      "Epoch 11/100\n",
      "11/11 [==============================] - 4s 396ms/step - loss: 0.0030 - val_loss: 0.0024\n",
      "Epoch 12/100\n",
      "11/11 [==============================] - 4s 394ms/step - loss: 0.0029 - val_loss: 0.0023\n",
      "Epoch 13/100\n",
      "11/11 [==============================] - 4s 372ms/step - loss: 0.0030 - val_loss: 0.0025\n",
      "Epoch 14/100\n",
      "11/11 [==============================] - 4s 384ms/step - loss: 0.0026 - val_loss: 0.0027\n",
      "Epoch 15/100\n",
      "11/11 [==============================] - 4s 392ms/step - loss: 0.0025 - val_loss: 0.0026\n",
      "Epoch 16/100\n",
      "11/11 [==============================] - 4s 395ms/step - loss: 0.0023 - val_loss: 0.0023\n",
      "Epoch 17/100\n",
      "11/11 [==============================] - 4s 372ms/step - loss: 0.0023 - val_loss: 0.0023\n",
      "Epoch 18/100\n",
      "11/11 [==============================] - 4s 410ms/step - loss: 0.0022 - val_loss: 0.0025\n",
      "Epoch 19/100\n",
      "11/11 [==============================] - 4s 374ms/step - loss: 0.0021 - val_loss: 0.0021\n",
      "Epoch 20/100\n",
      "11/11 [==============================] - 4s 337ms/step - loss: 0.0020 - val_loss: 0.0023\n",
      "Epoch 21/100\n",
      "11/11 [==============================] - 4s 362ms/step - loss: 0.0021 - val_loss: 0.0021\n",
      "Epoch 22/100\n",
      "11/11 [==============================] - 4s 404ms/step - loss: 0.0019 - val_loss: 0.0020\n",
      "Epoch 23/100\n",
      "11/11 [==============================] - 4s 411ms/step - loss: 0.0019 - val_loss: 0.0020\n",
      "Epoch 24/100\n",
      "11/11 [==============================] - 4s 413ms/step - loss: 0.0018 - val_loss: 0.0020\n",
      "Epoch 25/100\n",
      "11/11 [==============================] - 3s 320ms/step - loss: 0.0018 - val_loss: 0.0019\n",
      "Epoch 26/100\n",
      "11/11 [==============================] - 4s 403ms/step - loss: 0.0018 - val_loss: 0.0019\n",
      "Epoch 27/100\n",
      "11/11 [==============================] - 4s 408ms/step - loss: 0.0018 - val_loss: 0.0019\n",
      "Epoch 28/100\n",
      "11/11 [==============================] - 4s 378ms/step - loss: 0.0017 - val_loss: 0.0019\n",
      "Epoch 29/100\n",
      "11/11 [==============================] - 4s 327ms/step - loss: 0.0017 - val_loss: 0.0024\n",
      "Epoch 30/100\n",
      "11/11 [==============================] - 4s 396ms/step - loss: 0.0016 - val_loss: 0.0019\n",
      "Epoch 31/100\n",
      "11/11 [==============================] - 4s 367ms/step - loss: 0.0016 - val_loss: 0.0022\n",
      "Epoch 32/100\n",
      "11/11 [==============================] - 4s 380ms/step - loss: 0.0017 - val_loss: 0.0020\n",
      "Epoch 33/100\n",
      "11/11 [==============================] - 4s 336ms/step - loss: 0.0016 - val_loss: 0.0015\n",
      "Epoch 34/100\n",
      "11/11 [==============================] - 4s 377ms/step - loss: 0.0016 - val_loss: 0.0014\n",
      "Epoch 35/100\n",
      "11/11 [==============================] - 4s 373ms/step - loss: 0.0015 - val_loss: 0.0015\n",
      "Epoch 36/100\n",
      "11/11 [==============================] - 4s 383ms/step - loss: 0.0015 - val_loss: 0.0017\n",
      "Epoch 37/100\n",
      "11/11 [==============================] - 4s 344ms/step - loss: 0.0014 - val_loss: 0.0015\n",
      "Epoch 38/100\n",
      "11/11 [==============================] - 4s 358ms/step - loss: 0.0014 - val_loss: 0.0015\n",
      "Epoch 39/100\n",
      "11/11 [==============================] - 4s 378ms/step - loss: 0.0014 - val_loss: 0.0013\n",
      "Epoch 40/100\n",
      "11/11 [==============================] - 4s 379ms/step - loss: 0.0014 - val_loss: 0.0012\n",
      "Epoch 41/100\n",
      "11/11 [==============================] - 4s 337ms/step - loss: 0.0013 - val_loss: 0.0015\n",
      "Epoch 42/100\n",
      "11/11 [==============================] - 4s 387ms/step - loss: 0.0014 - val_loss: 0.0020\n",
      "Epoch 43/100\n",
      "11/11 [==============================] - 4s 363ms/step - loss: 0.0013 - val_loss: 0.0012\n",
      "Epoch 44/100\n",
      "11/11 [==============================] - 4s 326ms/step - loss: 0.0012 - val_loss: 0.0012\n",
      "Epoch 45/100\n",
      "11/11 [==============================] - 4s 323ms/step - loss: 0.0012 - val_loss: 0.0013\n",
      "Epoch 46/100\n",
      "11/11 [==============================] - 4s 340ms/step - loss: 0.0012 - val_loss: 0.0017\n",
      "Epoch 47/100\n",
      "11/11 [==============================] - 4s 323ms/step - loss: 0.0014 - val_loss: 0.0012\n",
      "Epoch 48/100\n",
      "11/11 [==============================] - 3s 312ms/step - loss: 0.0014 - val_loss: 0.0014\n",
      "Epoch 49/100\n",
      "11/11 [==============================] - 3s 318ms/step - loss: 0.0015 - val_loss: 0.0016\n",
      "Epoch 50/100\n",
      "11/11 [==============================] - 3s 325ms/step - loss: 0.0013 - val_loss: 0.0010\n",
      "Epoch 51/100\n",
      "11/11 [==============================] - 4s 321ms/step - loss: 0.0011 - val_loss: 0.0010\n",
      "Epoch 52/100\n",
      "11/11 [==============================] - 4s 384ms/step - loss: 0.0011 - val_loss: 0.0012\n",
      "Epoch 53/100\n",
      "11/11 [==============================] - 4s 379ms/step - loss: 0.0011 - val_loss: 9.3131e-04\n",
      "Epoch 54/100\n",
      "11/11 [==============================] - 4s 332ms/step - loss: 0.0010 - val_loss: 9.0116e-04\n",
      "Epoch 55/100\n",
      "11/11 [==============================] - 4s 388ms/step - loss: 0.0010 - val_loss: 9.3745e-04\n",
      "Epoch 56/100\n",
      "11/11 [==============================] - 4s 396ms/step - loss: 9.8518e-04 - val_loss: 8.7428e-04\n",
      "Epoch 57/100\n",
      "11/11 [==============================] - 4s 377ms/step - loss: 9.7463e-04 - val_loss: 8.5834e-04\n",
      "Epoch 58/100\n",
      "11/11 [==============================] - 4s 361ms/step - loss: 9.5260e-04 - val_loss: 8.4410e-04\n",
      "Epoch 59/100\n",
      "11/11 [==============================] - 4s 396ms/step - loss: 9.3198e-04 - val_loss: 8.2805e-04\n",
      "Epoch 60/100\n",
      "11/11 [==============================] - 4s 391ms/step - loss: 9.4683e-04 - val_loss: 9.0213e-04\n",
      "Epoch 61/100\n",
      "11/11 [==============================] - 4s 391ms/step - loss: 0.0011 - val_loss: 0.0011\n",
      "Epoch 62/100\n",
      "11/11 [==============================] - 4s 365ms/step - loss: 0.0011 - val_loss: 8.8688e-04\n",
      "Epoch 63/100\n",
      "11/11 [==============================] - 4s 394ms/step - loss: 9.7677e-04 - val_loss: 8.0448e-04\n",
      "Epoch 64/100\n",
      "11/11 [==============================] - 4s 387ms/step - loss: 8.6402e-04 - val_loss: 8.1540e-04\n",
      "Epoch 65/100\n",
      "11/11 [==============================] - 4s 352ms/step - loss: 8.9357e-04 - val_loss: 9.3415e-04\n",
      "Epoch 66/100\n",
      "11/11 [==============================] - 4s 367ms/step - loss: 0.0011 - val_loss: 7.4727e-04\n",
      "Epoch 67/100\n",
      "11/11 [==============================] - 4s 387ms/step - loss: 9.9628e-04 - val_loss: 9.9253e-04\n",
      "Epoch 68/100\n",
      "11/11 [==============================] - 4s 388ms/step - loss: 9.7454e-04 - val_loss: 8.0544e-04\n",
      "Epoch 69/100\n",
      "11/11 [==============================] - 4s 387ms/step - loss: 8.8484e-04 - val_loss: 7.3705e-04\n",
      "Epoch 70/100\n",
      "11/11 [==============================] - 4s 395ms/step - loss: 9.1541e-04 - val_loss: 8.3213e-04\n",
      "Epoch 71/100\n",
      "11/11 [==============================] - 4s 397ms/step - loss: 8.2493e-04 - val_loss: 7.2805e-04\n",
      "Epoch 72/100\n",
      "11/11 [==============================] - 4s 399ms/step - loss: 8.0953e-04 - val_loss: 7.5882e-04\n",
      "Epoch 73/100\n",
      "11/11 [==============================] - 4s 375ms/step - loss: 7.6075e-04 - val_loss: 7.2156e-04\n",
      "Epoch 74/100\n",
      "11/11 [==============================] - 4s 397ms/step - loss: 8.4135e-04 - val_loss: 9.1918e-04\n",
      "Epoch 75/100\n",
      "11/11 [==============================] - 4s 400ms/step - loss: 7.8088e-04 - val_loss: 6.6981e-04\n",
      "Epoch 76/100\n",
      "11/11 [==============================] - 4s 400ms/step - loss: 8.2286e-04 - val_loss: 0.0010\n",
      "Epoch 77/100\n",
      "11/11 [==============================] - 4s 358ms/step - loss: 7.7322e-04 - val_loss: 6.9964e-04\n",
      "Epoch 78/100\n",
      "11/11 [==============================] - 4s 410ms/step - loss: 8.4712e-04 - val_loss: 6.5447e-04\n",
      "Epoch 79/100\n",
      "11/11 [==============================] - 4s 407ms/step - loss: 9.9117e-04 - val_loss: 0.0014\n",
      "Epoch 80/100\n",
      "11/11 [==============================] - 4s 405ms/step - loss: 9.1224e-04 - val_loss: 6.8744e-04\n",
      "Epoch 81/100\n",
      "11/11 [==============================] - 4s 374ms/step - loss: 7.2467e-04 - val_loss: 6.3785e-04\n",
      "Epoch 82/100\n",
      "11/11 [==============================] - 4s 390ms/step - loss: 6.9628e-04 - val_loss: 6.3167e-04\n",
      "Epoch 83/100\n",
      "11/11 [==============================] - 4s 362ms/step - loss: 6.7671e-04 - val_loss: 6.2175e-04\n",
      "Epoch 84/100\n",
      "11/11 [==============================] - 4s 380ms/step - loss: 6.6520e-04 - val_loss: 7.0327e-04\n",
      "Epoch 85/100\n",
      "11/11 [==============================] - 4s 349ms/step - loss: 6.6103e-04 - val_loss: 8.0351e-04\n",
      "Epoch 86/100\n",
      "11/11 [==============================] - 4s 392ms/step - loss: 6.4770e-04 - val_loss: 5.9839e-04\n",
      "Epoch 87/100\n",
      "11/11 [==============================] - 4s 397ms/step - loss: 6.4378e-04 - val_loss: 6.0515e-04\n",
      "Epoch 88/100\n",
      "11/11 [==============================] - 4s 355ms/step - loss: 6.6816e-04 - val_loss: 6.6683e-04\n",
      "Epoch 89/100\n",
      "11/11 [==============================] - 4s 361ms/step - loss: 6.2363e-04 - val_loss: 5.7642e-04\n",
      "Epoch 90/100\n",
      "11/11 [==============================] - 4s 404ms/step - loss: 6.0752e-04 - val_loss: 6.4283e-04\n",
      "Epoch 91/100\n",
      "11/11 [==============================] - 4s 399ms/step - loss: 5.9037e-04 - val_loss: 6.8612e-04\n",
      "Epoch 92/100\n",
      "11/11 [==============================] - 4s 385ms/step - loss: 6.1477e-04 - val_loss: 7.2022e-04\n",
      "Epoch 93/100\n",
      "11/11 [==============================] - 4s 397ms/step - loss: 6.0768e-04 - val_loss: 5.6249e-04\n",
      "Epoch 94/100\n",
      "11/11 [==============================] - 4s 401ms/step - loss: 6.2736e-04 - val_loss: 5.9659e-04\n",
      "Epoch 95/100\n",
      "11/11 [==============================] - 4s 400ms/step - loss: 5.9422e-04 - val_loss: 6.8586e-04\n",
      "Epoch 96/100\n",
      "11/11 [==============================] - 4s 372ms/step - loss: 5.7339e-04 - val_loss: 5.5067e-04\n",
      "Epoch 97/100\n",
      "11/11 [==============================] - 4s 398ms/step - loss: 6.6802e-04 - val_loss: 9.9188e-04\n",
      "Epoch 98/100\n",
      "11/11 [==============================] - 4s 399ms/step - loss: 5.7605e-04 - val_loss: 5.3562e-04\n",
      "Epoch 99/100\n",
      "11/11 [==============================] - 4s 396ms/step - loss: 6.0800e-04 - val_loss: 7.4202e-04\n",
      "Epoch 100/100\n",
      "11/11 [==============================] - 4s 360ms/step - loss: 6.9270e-04 - val_loss: 5.3931e-04\n"
     ]
    },
    {
     "data": {
      "text/plain": [
       "<keras.callbacks.History at 0x1bfe0818220>"
      ]
     },
     "execution_count": 26,
     "metadata": {},
     "output_type": "execute_result"
    }
   ],
   "source": [
    "# Fit X_train,y_train and validation_data\n",
    "model.fit(X_train,y_train,validation_data=(X_test,ytest),epochs=100,batch_size=64,verbose=1)"
   ]
  },
  {
   "cell_type": "code",
   "execution_count": 27,
   "id": "87ec1a4f",
   "metadata": {},
   "outputs": [],
   "source": [
    "import tensorflow as tf"
   ]
  },
  {
   "cell_type": "code",
   "execution_count": 28,
   "id": "01740d15",
   "metadata": {},
   "outputs": [
    {
     "name": "stdout",
     "output_type": "stream",
     "text": [
      "22/22 [==============================] - 8s 73ms/step\n",
      "11/11 [==============================] - 1s 68ms/step\n"
     ]
    }
   ],
   "source": [
    "### Lets Do the prediction and check performance metrics\n",
    "train_predict=model.predict(X_train)\n",
    "test_predict=model.predict(X_test)"
   ]
  },
  {
   "cell_type": "code",
   "execution_count": 29,
   "id": "cf535d74",
   "metadata": {},
   "outputs": [],
   "source": [
    "##Transform back to original form\n",
    "train_predict=scaler.inverse_transform(train_predict)\n",
    "test_predict=scaler.inverse_transform(test_predict)\n"
   ]
  },
  {
   "cell_type": "code",
   "execution_count": 30,
   "id": "a2a17c2a",
   "metadata": {},
   "outputs": [
    {
     "data": {
      "text/plain": [
       "39.52801722522633"
      ]
     },
     "execution_count": 30,
     "metadata": {},
     "output_type": "execute_result"
    }
   ],
   "source": [
    "### Calculate RMSE performance metrics\n",
    "import math\n",
    "from sklearn.metrics import mean_squared_error\n",
    "math.sqrt(mean_squared_error(y_train,train_predict))"
   ]
  },
  {
   "cell_type": "code",
   "execution_count": 31,
   "id": "0472a923",
   "metadata": {},
   "outputs": [
    {
     "data": {
      "text/plain": [
       "45.11978631409492"
      ]
     },
     "execution_count": 31,
     "metadata": {},
     "output_type": "execute_result"
    }
   ],
   "source": [
    "### Test Data RMSE\n",
    "math.sqrt(mean_squared_error(ytest,test_predict))"
   ]
  },
  {
   "cell_type": "code",
   "execution_count": 32,
   "id": "928ea62f",
   "metadata": {},
   "outputs": [
    {
     "data": {
      "image/png": "[encoded data removed]",
      "text/plain": [
       "<Figure size 432x288 with 1 Axes>"
      ]
     },
     "metadata": {
      "needs_background": "light"
     },
     "output_type": "display_data"
    }
   ],
   "source": [
    "### Plotting \n",
    "# shift train predictions for plotting\n",
    "look_back=100\n",
    "trainPredictPlot = np.empty_like(df1)\n",
    "trainPredictPlot[:, :] = np.nan\n",
    "trainPredictPlot[look_back:len(train_predict)+look_back, :] = train_predict\n",
    "# shift test predictions for plotting\n",
    "testPredictPlot = np.empty_like(df1)\n",
    "testPredictPlot[:, :] = np.nan\n",
    "testPredictPlot[len(train_predict)+(look_back*2)+1:len(df1)-1, :] = test_predict\n",
    "# plot baseline and predictions\n",
    "plt.plot(scaler.inverse_transform(df1))\n",
    "plt.plot(trainPredictPlot)\n",
    "plt.plot(testPredictPlot)\n",
    "plt.show()\n",
    "\n"
   ]
  },
  {
   "cell_type": "code",
   "execution_count": 33,
   "id": "424e0c6f",
   "metadata": {},
   "outputs": [
    {
     "data": {
      "text/plain": [
       "433"
      ]
     },
     "execution_count": 33,
     "metadata": {},
     "output_type": "execute_result"
    }
   ],
   "source": [
    "len(test_data)\n"
   ]
  },
  {
   "cell_type": "code",
   "execution_count": 35,
   "id": "727676bf",
   "metadata": {},
   "outputs": [
    {
     "data": {
      "text/plain": [
       "(1, 100)"
      ]
     },
     "execution_count": 35,
     "metadata": {},
     "output_type": "execute_result"
    }
   ],
   "source": [
    "# Taking last 100 days data to predict the future\n",
    "x_input = test_data[333:].reshape(1,-1)\n",
    "x_input.shape"
   ]
  },
  {
   "cell_type": "code",
   "execution_count": 36,
   "id": "4a5eeafe",
   "metadata": {},
   "outputs": [],
   "source": [
    "# Converting this into a list\n",
    "temp_input=list(x_input)\n",
    "temp_input=temp_input[0].tolist()"
   ]
  },
  {
   "cell_type": "code",
   "execution_count": 37,
   "id": "1f6ca290",
   "metadata": {},
   "outputs": [
    {
     "data": {
      "text/plain": [
       "[0.33432537692507674,\n",
       " 0.31250002108134795,\n",
       " 0.32043646902163875,\n",
       " 0.34623009843868463,\n",
       " 0.3630952363236963,\n",
       " 0.3601190063421226,\n",
       " 0.35714287556689234,\n",
       " 0.3601190063421226,\n",
       " 0.3412697812736241,\n",
       " 0.3363094641085636,\n",
       " 0.3283730161682728,\n",
       " 0.3263888297784427,\n",
       " 0.3214285126133822,\n",
       " 0.31547615185657824,\n",
       " 0.292658752421106,\n",
       " 0.29365079601284944,\n",
       " 0.2886904788477889,\n",
       " 0.2678571269132662,\n",
       " 0.2678571269132662,\n",
       " 0.23214284332483076,\n",
       " 0.24305554108796373,\n",
       " 0.2182539552626614,\n",
       " 0.23015871645880653,\n",
       " 0.254960302284109,\n",
       " 0.2767856581278378,\n",
       " 0.2748015709443509,\n",
       " 0.2678571269132662,\n",
       " 0.26388889302248647,\n",
       " 0.27976188810941144,\n",
       " 0.31547615185657824,\n",
       " 0.30357143034297046,\n",
       " 0.31547615185657824,\n",
       " 0.32043646902163875,\n",
       " 0.3095237910997743,\n",
       " 0.3214285126133822,\n",
       " 0.3144841082648348,\n",
       " 0.31250002108134795,\n",
       " 0.3105158346915177,\n",
       " 0.30158724395314024,\n",
       " 0.33035710335175966,\n",
       " 0.33928569409013726,\n",
       " 0.3323412897415899,\n",
       " 0.34920632842025817,\n",
       " 0.34920632842025817,\n",
       " 0.35317460199357525,\n",
       " 0.3472222412367713,\n",
       " 0.34920632842025817,\n",
       " 0.36607136709892657,\n",
       " 0.3849205921674251,\n",
       " 0.4722222139550269,\n",
       " 0.5009920733536464,\n",
       " 0.4960317561885859,\n",
       " 0.4940475697987557,\n",
       " 0.5009920733536464,\n",
       " 0.5257936591789489,\n",
       " 0.5287697899541792,\n",
       " 0.5376983806925566,\n",
       " 0.534722150710983,\n",
       " 0.534722150710983,\n",
       " 0.5525793321877381,\n",
       " 0.5426586978576171,\n",
       " 0.5257936591789489,\n",
       " 0.5059523905187069,\n",
       " 0.5535713757794816,\n",
       " 0.6041665910218299,\n",
       " 0.6111110945767206,\n",
       " 0.6011904602465996,\n",
       " 0.6051587338199167,\n",
       " 0.6150793681500375,\n",
       " 0.6150793681500375,\n",
       " 0.6031745474300865,\n",
       " 0.6478174019156306,\n",
       " 0.629960319645219,\n",
       " 0.6349206368102795,\n",
       " 0.6537697626724346,\n",
       " 0.6408729975670835,\n",
       " 0.6498015883054609,\n",
       " 0.6369047239937664,\n",
       " 0.6498015883054609,\n",
       " 0.6865078956443711,\n",
       " 0.6507936318972043,\n",
       " 0.6537697626724346,\n",
       " 0.6577380362457517,\n",
       " 0.6468253583238872,\n",
       " 0.6448412711404004,\n",
       " 0.6061507774116601,\n",
       " 0.5773809180130405,\n",
       " 0.5813491915863576,\n",
       " 0.5664682400911762,\n",
       " 0.5873015523431615,\n",
       " 0.6289681768471322,\n",
       " 0.6190475425170112,\n",
       " 0.6954364863827487,\n",
       " 0.7172618422264776,\n",
       " 0.6914682128094316,\n",
       " 0.7063491643046131,\n",
       " 0.6934522999929185,\n",
       " 0.7331348373134023,\n",
       " 0.7202380722080512,\n",
       " 0.7172618422264776]"
      ]
     },
     "execution_count": 37,
     "metadata": {},
     "output_type": "execute_result"
    }
   ],
   "source": [
    "# All data from test_data displayed for prev 100 days\n",
    "temp_input\n"
   ]
  },
  {
   "cell_type": "code",
   "execution_count": 38,
   "id": "7d0eaf11",
   "metadata": {},
   "outputs": [
    {
     "name": "stdout",
     "output_type": "stream",
     "text": [
      "[0.7196485]\n",
      "101\n",
      "1 day input [0.31250002 0.32043647 0.3462301  0.36309524 0.36011901 0.35714288\n",
      " 0.36011901 0.34126978 0.33630946 0.32837302 0.32638883 0.32142851\n",
      " 0.31547615 0.29265875 0.2936508  0.28869048 0.26785713 0.26785713\n",
      " 0.23214284 0.24305554 0.21825396 0.23015872 0.2549603  0.27678566\n",
      " 0.27480157 0.26785713 0.26388889 0.27976189 0.31547615 0.30357143\n",
      " 0.31547615 0.32043647 0.30952379 0.32142851 0.31448411 0.31250002\n",
      " 0.31051583 0.30158724 0.3303571  0.33928569 0.33234129 0.34920633\n",
      " 0.34920633 0.3531746  0.34722224 0.34920633 0.36607137 0.38492059\n",
      " 0.47222221 0.50099207 0.49603176 0.49404757 0.50099207 0.52579366\n",
      " 0.52876979 0.53769838 0.53472215 0.53472215 0.55257933 0.5426587\n",
      " 0.52579366 0.50595239 0.55357138 0.60416659 0.61111109 0.60119046\n",
      " 0.60515873 0.61507937 0.61507937 0.60317455 0.6478174  0.62996032\n",
      " 0.63492064 0.65376976 0.640873   0.64980159 0.63690472 0.64980159\n",
      " 0.6865079  0.65079363 0.65376976 0.65773804 0.64682536 0.64484127\n",
      " 0.60615078 0.57738092 0.58134919 0.56646824 0.58730155 0.62896818\n",
      " 0.61904754 0.69543649 0.71726184 0.69146821 0.70634916 0.6934523\n",
      " 0.73313484 0.72023807 0.71726184 0.71964848]\n",
      "1 day output [[0.71801275]]\n",
      "2 day input [0.32043647 0.3462301  0.36309524 0.36011901 0.35714288 0.36011901\n",
      " 0.34126978 0.33630946 0.32837302 0.32638883 0.32142851 0.31547615\n",
      " 0.29265875 0.2936508  0.28869048 0.26785713 0.26785713 0.23214284\n",
      " 0.24305554 0.21825396 0.23015872 0.2549603  0.27678566 0.27480157\n",
      " 0.26785713 0.26388889 0.27976189 0.31547615 0.30357143 0.31547615\n",
      " 0.32043647 0.30952379 0.32142851 0.31448411 0.31250002 0.31051583\n",
      " 0.30158724 0.3303571  0.33928569 0.33234129 0.34920633 0.34920633\n",
      " 0.3531746  0.34722224 0.34920633 0.36607137 0.38492059 0.47222221\n",
      " 0.50099207 0.49603176 0.49404757 0.50099207 0.52579366 0.52876979\n",
      " 0.53769838 0.53472215 0.53472215 0.55257933 0.5426587  0.52579366\n",
      " 0.50595239 0.55357138 0.60416659 0.61111109 0.60119046 0.60515873\n",
      " 0.61507937 0.61507937 0.60317455 0.6478174  0.62996032 0.63492064\n",
      " 0.65376976 0.640873   0.64980159 0.63690472 0.64980159 0.6865079\n",
      " 0.65079363 0.65376976 0.65773804 0.64682536 0.64484127 0.60615078\n",
      " 0.57738092 0.58134919 0.56646824 0.58730155 0.62896818 0.61904754\n",
      " 0.69543649 0.71726184 0.69146821 0.70634916 0.6934523  0.73313484\n",
      " 0.72023807 0.71726184 0.71964848 0.71801275]\n",
      "2 day output [[0.71744514]]\n",
      "3 day input [0.3462301  0.36309524 0.36011901 0.35714288 0.36011901 0.34126978\n",
      " 0.33630946 0.32837302 0.32638883 0.32142851 0.31547615 0.29265875\n",
      " 0.2936508  0.28869048 0.26785713 0.26785713 0.23214284 0.24305554\n",
      " 0.21825396 0.23015872 0.2549603  0.27678566 0.27480157 0.26785713\n",
      " 0.26388889 0.27976189 0.31547615 0.30357143 0.31547615 0.32043647\n",
      " 0.30952379 0.32142851 0.31448411 0.31250002 0.31051583 0.30158724\n",
      " 0.3303571  0.33928569 0.33234129 0.34920633 0.34920633 0.3531746\n",
      " 0.34722224 0.34920633 0.36607137 0.38492059 0.47222221 0.50099207\n",
      " 0.49603176 0.49404757 0.50099207 0.52579366 0.52876979 0.53769838\n",
      " 0.53472215 0.53472215 0.55257933 0.5426587  0.52579366 0.50595239\n",
      " 0.55357138 0.60416659 0.61111109 0.60119046 0.60515873 0.61507937\n",
      " 0.61507937 0.60317455 0.6478174  0.62996032 0.63492064 0.65376976\n",
      " 0.640873   0.64980159 0.63690472 0.64980159 0.6865079  0.65079363\n",
      " 0.65376976 0.65773804 0.64682536 0.64484127 0.60615078 0.57738092\n",
      " 0.58134919 0.56646824 0.58730155 0.62896818 0.61904754 0.69543649\n",
      " 0.71726184 0.69146821 0.70634916 0.6934523  0.73313484 0.72023807\n",
      " 0.71726184 0.71964848 0.71801275 0.71744514]\n",
      "3 day output [[0.7168362]]\n",
      "4 day input [0.36309524 0.36011901 0.35714288 0.36011901 0.34126978 0.33630946\n",
      " 0.32837302 0.32638883 0.32142851 0.31547615 0.29265875 0.2936508\n",
      " 0.28869048 0.26785713 0.26785713 0.23214284 0.24305554 0.21825396\n",
      " 0.23015872 0.2549603  0.27678566 0.27480157 0.26785713 0.26388889\n",
      " 0.27976189 0.31547615 0.30357143 0.31547615 0.32043647 0.30952379\n",
      " 0.32142851 0.31448411 0.31250002 0.31051583 0.30158724 0.3303571\n",
      " 0.33928569 0.33234129 0.34920633 0.34920633 0.3531746  0.34722224\n",
      " 0.34920633 0.36607137 0.38492059 0.47222221 0.50099207 0.49603176\n",
      " 0.49404757 0.50099207 0.52579366 0.52876979 0.53769838 0.53472215\n",
      " 0.53472215 0.55257933 0.5426587  0.52579366 0.50595239 0.55357138\n",
      " 0.60416659 0.61111109 0.60119046 0.60515873 0.61507937 0.61507937\n",
      " 0.60317455 0.6478174  0.62996032 0.63492064 0.65376976 0.640873\n",
      " 0.64980159 0.63690472 0.64980159 0.6865079  0.65079363 0.65376976\n",
      " 0.65773804 0.64682536 0.64484127 0.60615078 0.57738092 0.58134919\n",
      " 0.56646824 0.58730155 0.62896818 0.61904754 0.69543649 0.71726184\n",
      " 0.69146821 0.70634916 0.6934523  0.73313484 0.72023807 0.71726184\n",
      " 0.71964848 0.71801275 0.71744514 0.71683621]\n",
      "4 day output [[0.7157444]]\n",
      "5 day input [0.36011901 0.35714288 0.36011901 0.34126978 0.33630946 0.32837302\n",
      " 0.32638883 0.32142851 0.31547615 0.29265875 0.2936508  0.28869048\n",
      " 0.26785713 0.26785713 0.23214284 0.24305554 0.21825396 0.23015872\n",
      " 0.2549603  0.27678566 0.27480157 0.26785713 0.26388889 0.27976189\n",
      " 0.31547615 0.30357143 0.31547615 0.32043647 0.30952379 0.32142851\n",
      " 0.31448411 0.31250002 0.31051583 0.30158724 0.3303571  0.33928569\n",
      " 0.33234129 0.34920633 0.34920633 0.3531746  0.34722224 0.34920633\n",
      " 0.36607137 0.38492059 0.47222221 0.50099207 0.49603176 0.49404757\n",
      " 0.50099207 0.52579366 0.52876979 0.53769838 0.53472215 0.53472215\n",
      " 0.55257933 0.5426587  0.52579366 0.50595239 0.55357138 0.60416659\n",
      " 0.61111109 0.60119046 0.60515873 0.61507937 0.61507937 0.60317455\n",
      " 0.6478174  0.62996032 0.63492064 0.65376976 0.640873   0.64980159\n",
      " 0.63690472 0.64980159 0.6865079  0.65079363 0.65376976 0.65773804\n",
      " 0.64682536 0.64484127 0.60615078 0.57738092 0.58134919 0.56646824\n",
      " 0.58730155 0.62896818 0.61904754 0.69543649 0.71726184 0.69146821\n",
      " 0.70634916 0.6934523  0.73313484 0.72023807 0.71726184 0.71964848\n",
      " 0.71801275 0.71744514 0.71683621 0.71574438]\n",
      "5 day output [[0.71394306]]\n",
      "6 day input [0.35714288 0.36011901 0.34126978 0.33630946 0.32837302 0.32638883\n",
      " 0.32142851 0.31547615 0.29265875 0.2936508  0.28869048 0.26785713\n",
      " 0.26785713 0.23214284 0.24305554 0.21825396 0.23015872 0.2549603\n",
      " 0.27678566 0.27480157 0.26785713 0.26388889 0.27976189 0.31547615\n",
      " 0.30357143 0.31547615 0.32043647 0.30952379 0.32142851 0.31448411\n",
      " 0.31250002 0.31051583 0.30158724 0.3303571  0.33928569 0.33234129\n",
      " 0.34920633 0.34920633 0.3531746  0.34722224 0.34920633 0.36607137\n",
      " 0.38492059 0.47222221 0.50099207 0.49603176 0.49404757 0.50099207\n",
      " 0.52579366 0.52876979 0.53769838 0.53472215 0.53472215 0.55257933\n",
      " 0.5426587  0.52579366 0.50595239 0.55357138 0.60416659 0.61111109\n",
      " 0.60119046 0.60515873 0.61507937 0.61507937 0.60317455 0.6478174\n",
      " 0.62996032 0.63492064 0.65376976 0.640873   0.64980159 0.63690472\n",
      " 0.64980159 0.6865079  0.65079363 0.65376976 0.65773804 0.64682536\n",
      " 0.64484127 0.60615078 0.57738092 0.58134919 0.56646824 0.58730155\n",
      " 0.62896818 0.61904754 0.69543649 0.71726184 0.69146821 0.70634916\n",
      " 0.6934523  0.73313484 0.72023807 0.71726184 0.71964848 0.71801275\n",
      " 0.71744514 0.71683621 0.71574438 0.71394306]\n",
      "6 day output [[0.71138984]]\n",
      "7 day input [0.36011901 0.34126978 0.33630946 0.32837302 0.32638883 0.32142851\n",
      " 0.31547615 0.29265875 0.2936508  0.28869048 0.26785713 0.26785713\n",
      " 0.23214284 0.24305554 0.21825396 0.23015872 0.2549603  0.27678566\n",
      " 0.27480157 0.26785713 0.26388889 0.27976189 0.31547615 0.30357143\n",
      " 0.31547615 0.32043647 0.30952379 0.32142851 0.31448411 0.31250002\n",
      " 0.31051583 0.30158724 0.3303571  0.33928569 0.33234129 0.34920633\n",
      " 0.34920633 0.3531746  0.34722224 0.34920633 0.36607137 0.38492059\n",
      " 0.47222221 0.50099207 0.49603176 0.49404757 0.50099207 0.52579366\n",
      " 0.52876979 0.53769838 0.53472215 0.53472215 0.55257933 0.5426587\n",
      " 0.52579366 0.50595239 0.55357138 0.60416659 0.61111109 0.60119046\n",
      " 0.60515873 0.61507937 0.61507937 0.60317455 0.6478174  0.62996032\n",
      " 0.63492064 0.65376976 0.640873   0.64980159 0.63690472 0.64980159\n",
      " 0.6865079  0.65079363 0.65376976 0.65773804 0.64682536 0.64484127\n",
      " 0.60615078 0.57738092 0.58134919 0.56646824 0.58730155 0.62896818\n",
      " 0.61904754 0.69543649 0.71726184 0.69146821 0.70634916 0.6934523\n",
      " 0.73313484 0.72023807 0.71726184 0.71964848 0.71801275 0.71744514\n",
      " 0.71683621 0.71574438 0.71394306 0.71138984]\n",
      "7 day output [[0.70818096]]\n",
      "8 day input [0.34126978 0.33630946 0.32837302 0.32638883 0.32142851 0.31547615\n",
      " 0.29265875 0.2936508  0.28869048 0.26785713 0.26785713 0.23214284\n",
      " 0.24305554 0.21825396 0.23015872 0.2549603  0.27678566 0.27480157\n",
      " 0.26785713 0.26388889 0.27976189 0.31547615 0.30357143 0.31547615\n",
      " 0.32043647 0.30952379 0.32142851 0.31448411 0.31250002 0.31051583\n",
      " 0.30158724 0.3303571  0.33928569 0.33234129 0.34920633 0.34920633\n",
      " 0.3531746  0.34722224 0.34920633 0.36607137 0.38492059 0.47222221\n",
      " 0.50099207 0.49603176 0.49404757 0.50099207 0.52579366 0.52876979\n",
      " 0.53769838 0.53472215 0.53472215 0.55257933 0.5426587  0.52579366\n",
      " 0.50595239 0.55357138 0.60416659 0.61111109 0.60119046 0.60515873\n",
      " 0.61507937 0.61507937 0.60317455 0.6478174  0.62996032 0.63492064\n",
      " 0.65376976 0.640873   0.64980159 0.63690472 0.64980159 0.6865079\n",
      " 0.65079363 0.65376976 0.65773804 0.64682536 0.64484127 0.60615078\n",
      " 0.57738092 0.58134919 0.56646824 0.58730155 0.62896818 0.61904754\n",
      " 0.69543649 0.71726184 0.69146821 0.70634916 0.6934523  0.73313484\n",
      " 0.72023807 0.71726184 0.71964848 0.71801275 0.71744514 0.71683621\n",
      " 0.71574438 0.71394306 0.71138984 0.70818096]\n",
      "8 day output [[0.7044814]]\n",
      "9 day input [0.33630946 0.32837302 0.32638883 0.32142851 0.31547615 0.29265875\n",
      " 0.2936508  0.28869048 0.26785713 0.26785713 0.23214284 0.24305554\n",
      " 0.21825396 0.23015872 0.2549603  0.27678566 0.27480157 0.26785713\n",
      " 0.26388889 0.27976189 0.31547615 0.30357143 0.31547615 0.32043647\n",
      " 0.30952379 0.32142851 0.31448411 0.31250002 0.31051583 0.30158724\n",
      " 0.3303571  0.33928569 0.33234129 0.34920633 0.34920633 0.3531746\n",
      " 0.34722224 0.34920633 0.36607137 0.38492059 0.47222221 0.50099207\n",
      " 0.49603176 0.49404757 0.50099207 0.52579366 0.52876979 0.53769838\n",
      " 0.53472215 0.53472215 0.55257933 0.5426587  0.52579366 0.50595239\n",
      " 0.55357138 0.60416659 0.61111109 0.60119046 0.60515873 0.61507937\n",
      " 0.61507937 0.60317455 0.6478174  0.62996032 0.63492064 0.65376976\n",
      " 0.640873   0.64980159 0.63690472 0.64980159 0.6865079  0.65079363\n",
      " 0.65376976 0.65773804 0.64682536 0.64484127 0.60615078 0.57738092\n",
      " 0.58134919 0.56646824 0.58730155 0.62896818 0.61904754 0.69543649\n",
      " 0.71726184 0.69146821 0.70634916 0.6934523  0.73313484 0.72023807\n",
      " 0.71726184 0.71964848 0.71801275 0.71744514 0.71683621 0.71574438\n",
      " 0.71394306 0.71138984 0.70818096 0.70448142]\n",
      "9 day output [[0.7004594]]\n",
      "10 day input [0.32837302 0.32638883 0.32142851 0.31547615 0.29265875 0.2936508\n",
      " 0.28869048 0.26785713 0.26785713 0.23214284 0.24305554 0.21825396\n",
      " 0.23015872 0.2549603  0.27678566 0.27480157 0.26785713 0.26388889\n",
      " 0.27976189 0.31547615 0.30357143 0.31547615 0.32043647 0.30952379\n",
      " 0.32142851 0.31448411 0.31250002 0.31051583 0.30158724 0.3303571\n",
      " 0.33928569 0.33234129 0.34920633 0.34920633 0.3531746  0.34722224\n",
      " 0.34920633 0.36607137 0.38492059 0.47222221 0.50099207 0.49603176\n",
      " 0.49404757 0.50099207 0.52579366 0.52876979 0.53769838 0.53472215\n",
      " 0.53472215 0.55257933 0.5426587  0.52579366 0.50595239 0.55357138\n",
      " 0.60416659 0.61111109 0.60119046 0.60515873 0.61507937 0.61507937\n",
      " 0.60317455 0.6478174  0.62996032 0.63492064 0.65376976 0.640873\n",
      " 0.64980159 0.63690472 0.64980159 0.6865079  0.65079363 0.65376976\n",
      " 0.65773804 0.64682536 0.64484127 0.60615078 0.57738092 0.58134919\n",
      " 0.56646824 0.58730155 0.62896818 0.61904754 0.69543649 0.71726184\n",
      " 0.69146821 0.70634916 0.6934523  0.73313484 0.72023807 0.71726184\n",
      " 0.71964848 0.71801275 0.71744514 0.71683621 0.71574438 0.71394306\n",
      " 0.71138984 0.70818096 0.70448142 0.70045942]\n",
      "10 day output [[0.69624704]]\n",
      "11 day input [0.32638883 0.32142851 0.31547615 0.29265875 0.2936508  0.28869048\n",
      " 0.26785713 0.26785713 0.23214284 0.24305554 0.21825396 0.23015872\n",
      " 0.2549603  0.27678566 0.27480157 0.26785713 0.26388889 0.27976189\n",
      " 0.31547615 0.30357143 0.31547615 0.32043647 0.30952379 0.32142851\n",
      " 0.31448411 0.31250002 0.31051583 0.30158724 0.3303571  0.33928569\n",
      " 0.33234129 0.34920633 0.34920633 0.3531746  0.34722224 0.34920633\n",
      " 0.36607137 0.38492059 0.47222221 0.50099207 0.49603176 0.49404757\n",
      " 0.50099207 0.52579366 0.52876979 0.53769838 0.53472215 0.53472215\n",
      " 0.55257933 0.5426587  0.52579366 0.50595239 0.55357138 0.60416659\n",
      " 0.61111109 0.60119046 0.60515873 0.61507937 0.61507937 0.60317455\n",
      " 0.6478174  0.62996032 0.63492064 0.65376976 0.640873   0.64980159\n",
      " 0.63690472 0.64980159 0.6865079  0.65079363 0.65376976 0.65773804\n",
      " 0.64682536 0.64484127 0.60615078 0.57738092 0.58134919 0.56646824\n",
      " 0.58730155 0.62896818 0.61904754 0.69543649 0.71726184 0.69146821\n",
      " 0.70634916 0.6934523  0.73313484 0.72023807 0.71726184 0.71964848\n",
      " 0.71801275 0.71744514 0.71683621 0.71574438 0.71394306 0.71138984\n",
      " 0.70818096 0.70448142 0.70045942 0.69624704]\n",
      "11 day output [[0.69193006]]\n",
      "12 day input [0.32142851 0.31547615 0.29265875 0.2936508  0.28869048 0.26785713\n",
      " 0.26785713 0.23214284 0.24305554 0.21825396 0.23015872 0.2549603\n",
      " 0.27678566 0.27480157 0.26785713 0.26388889 0.27976189 0.31547615\n",
      " 0.30357143 0.31547615 0.32043647 0.30952379 0.32142851 0.31448411\n",
      " 0.31250002 0.31051583 0.30158724 0.3303571  0.33928569 0.33234129\n",
      " 0.34920633 0.34920633 0.3531746  0.34722224 0.34920633 0.36607137\n",
      " 0.38492059 0.47222221 0.50099207 0.49603176 0.49404757 0.50099207\n",
      " 0.52579366 0.52876979 0.53769838 0.53472215 0.53472215 0.55257933\n",
      " 0.5426587  0.52579366 0.50595239 0.55357138 0.60416659 0.61111109\n",
      " 0.60119046 0.60515873 0.61507937 0.61507937 0.60317455 0.6478174\n",
      " 0.62996032 0.63492064 0.65376976 0.640873   0.64980159 0.63690472\n",
      " 0.64980159 0.6865079  0.65079363 0.65376976 0.65773804 0.64682536\n",
      " 0.64484127 0.60615078 0.57738092 0.58134919 0.56646824 0.58730155\n",
      " 0.62896818 0.61904754 0.69543649 0.71726184 0.69146821 0.70634916\n",
      " 0.6934523  0.73313484 0.72023807 0.71726184 0.71964848 0.71801275\n",
      " 0.71744514 0.71683621 0.71574438 0.71394306 0.71138984 0.70818096\n",
      " 0.70448142 0.70045942 0.69624704 0.69193006]\n",
      "12 day output [[0.6875565]]\n",
      "13 day input [0.31547615 0.29265875 0.2936508  0.28869048 0.26785713 0.26785713\n",
      " 0.23214284 0.24305554 0.21825396 0.23015872 0.2549603  0.27678566\n",
      " 0.27480157 0.26785713 0.26388889 0.27976189 0.31547615 0.30357143\n",
      " 0.31547615 0.32043647 0.30952379 0.32142851 0.31448411 0.31250002\n",
      " 0.31051583 0.30158724 0.3303571  0.33928569 0.33234129 0.34920633\n",
      " 0.34920633 0.3531746  0.34722224 0.34920633 0.36607137 0.38492059\n",
      " 0.47222221 0.50099207 0.49603176 0.49404757 0.50099207 0.52579366\n",
      " 0.52876979 0.53769838 0.53472215 0.53472215 0.55257933 0.5426587\n",
      " 0.52579366 0.50595239 0.55357138 0.60416659 0.61111109 0.60119046\n",
      " 0.60515873 0.61507937 0.61507937 0.60317455 0.6478174  0.62996032\n",
      " 0.63492064 0.65376976 0.640873   0.64980159 0.63690472 0.64980159\n",
      " 0.6865079  0.65079363 0.65376976 0.65773804 0.64682536 0.64484127\n",
      " 0.60615078 0.57738092 0.58134919 0.56646824 0.58730155 0.62896818\n",
      " 0.61904754 0.69543649 0.71726184 0.69146821 0.70634916 0.6934523\n",
      " 0.73313484 0.72023807 0.71726184 0.71964848 0.71801275 0.71744514\n",
      " 0.71683621 0.71574438 0.71394306 0.71138984 0.70818096 0.70448142\n",
      " 0.70045942 0.69624704 0.69193006 0.68755651]\n",
      "13 day output [[0.6831505]]\n",
      "14 day input [0.29265875 0.2936508  0.28869048 0.26785713 0.26785713 0.23214284\n",
      " 0.24305554 0.21825396 0.23015872 0.2549603  0.27678566 0.27480157\n",
      " 0.26785713 0.26388889 0.27976189 0.31547615 0.30357143 0.31547615\n",
      " 0.32043647 0.30952379 0.32142851 0.31448411 0.31250002 0.31051583\n",
      " 0.30158724 0.3303571  0.33928569 0.33234129 0.34920633 0.34920633\n",
      " 0.3531746  0.34722224 0.34920633 0.36607137 0.38492059 0.47222221\n",
      " 0.50099207 0.49603176 0.49404757 0.50099207 0.52579366 0.52876979\n",
      " 0.53769838 0.53472215 0.53472215 0.55257933 0.5426587  0.52579366\n",
      " 0.50595239 0.55357138 0.60416659 0.61111109 0.60119046 0.60515873\n",
      " 0.61507937 0.61507937 0.60317455 0.6478174  0.62996032 0.63492064\n",
      " 0.65376976 0.640873   0.64980159 0.63690472 0.64980159 0.6865079\n",
      " 0.65079363 0.65376976 0.65773804 0.64682536 0.64484127 0.60615078\n",
      " 0.57738092 0.58134919 0.56646824 0.58730155 0.62896818 0.61904754\n",
      " 0.69543649 0.71726184 0.69146821 0.70634916 0.6934523  0.73313484\n",
      " 0.72023807 0.71726184 0.71964848 0.71801275 0.71744514 0.71683621\n",
      " 0.71574438 0.71394306 0.71138984 0.70818096 0.70448142 0.70045942\n",
      " 0.69624704 0.69193006 0.68755651 0.68315047]\n",
      "14 day output [[0.67873013]]\n",
      "15 day input [0.2936508  0.28869048 0.26785713 0.26785713 0.23214284 0.24305554\n",
      " 0.21825396 0.23015872 0.2549603  0.27678566 0.27480157 0.26785713\n",
      " 0.26388889 0.27976189 0.31547615 0.30357143 0.31547615 0.32043647\n",
      " 0.30952379 0.32142851 0.31448411 0.31250002 0.31051583 0.30158724\n",
      " 0.3303571  0.33928569 0.33234129 0.34920633 0.34920633 0.3531746\n",
      " 0.34722224 0.34920633 0.36607137 0.38492059 0.47222221 0.50099207\n",
      " 0.49603176 0.49404757 0.50099207 0.52579366 0.52876979 0.53769838\n",
      " 0.53472215 0.53472215 0.55257933 0.5426587  0.52579366 0.50595239\n",
      " 0.55357138 0.60416659 0.61111109 0.60119046 0.60515873 0.61507937\n",
      " 0.61507937 0.60317455 0.6478174  0.62996032 0.63492064 0.65376976\n",
      " 0.640873   0.64980159 0.63690472 0.64980159 0.6865079  0.65079363\n",
      " 0.65376976 0.65773804 0.64682536 0.64484127 0.60615078 0.57738092\n",
      " 0.58134919 0.56646824 0.58730155 0.62896818 0.61904754 0.69543649\n",
      " 0.71726184 0.69146821 0.70634916 0.6934523  0.73313484 0.72023807\n",
      " 0.71726184 0.71964848 0.71801275 0.71744514 0.71683621 0.71574438\n",
      " 0.71394306 0.71138984 0.70818096 0.70448142 0.70045942 0.69624704\n",
      " 0.69193006 0.68755651 0.68315047 0.67873013]\n",
      "15 day output [[0.67431295]]\n",
      "16 day input [0.28869048 0.26785713 0.26785713 0.23214284 0.24305554 0.21825396\n",
      " 0.23015872 0.2549603  0.27678566 0.27480157 0.26785713 0.26388889\n",
      " 0.27976189 0.31547615 0.30357143 0.31547615 0.32043647 0.30952379\n",
      " 0.32142851 0.31448411 0.31250002 0.31051583 0.30158724 0.3303571\n",
      " 0.33928569 0.33234129 0.34920633 0.34920633 0.3531746  0.34722224\n",
      " 0.34920633 0.36607137 0.38492059 0.47222221 0.50099207 0.49603176\n",
      " 0.49404757 0.50099207 0.52579366 0.52876979 0.53769838 0.53472215\n",
      " 0.53472215 0.55257933 0.5426587  0.52579366 0.50595239 0.55357138\n",
      " 0.60416659 0.61111109 0.60119046 0.60515873 0.61507937 0.61507937\n",
      " 0.60317455 0.6478174  0.62996032 0.63492064 0.65376976 0.640873\n",
      " 0.64980159 0.63690472 0.64980159 0.6865079  0.65079363 0.65376976\n",
      " 0.65773804 0.64682536 0.64484127 0.60615078 0.57738092 0.58134919\n",
      " 0.56646824 0.58730155 0.62896818 0.61904754 0.69543649 0.71726184\n",
      " 0.69146821 0.70634916 0.6934523  0.73313484 0.72023807 0.71726184\n",
      " 0.71964848 0.71801275 0.71744514 0.71683621 0.71574438 0.71394306\n",
      " 0.71138984 0.70818096 0.70448142 0.70045942 0.69624704 0.69193006\n",
      " 0.68755651 0.68315047 0.67873013 0.67431295]\n",
      "16 day output [[0.66992193]]\n",
      "17 day input [0.26785713 0.26785713 0.23214284 0.24305554 0.21825396 0.23015872\n",
      " 0.2549603  0.27678566 0.27480157 0.26785713 0.26388889 0.27976189\n",
      " 0.31547615 0.30357143 0.31547615 0.32043647 0.30952379 0.32142851\n",
      " 0.31448411 0.31250002 0.31051583 0.30158724 0.3303571  0.33928569\n",
      " 0.33234129 0.34920633 0.34920633 0.3531746  0.34722224 0.34920633\n",
      " 0.36607137 0.38492059 0.47222221 0.50099207 0.49603176 0.49404757\n",
      " 0.50099207 0.52579366 0.52876979 0.53769838 0.53472215 0.53472215\n",
      " 0.55257933 0.5426587  0.52579366 0.50595239 0.55357138 0.60416659\n",
      " 0.61111109 0.60119046 0.60515873 0.61507937 0.61507937 0.60317455\n",
      " 0.6478174  0.62996032 0.63492064 0.65376976 0.640873   0.64980159\n",
      " 0.63690472 0.64980159 0.6865079  0.65079363 0.65376976 0.65773804\n",
      " 0.64682536 0.64484127 0.60615078 0.57738092 0.58134919 0.56646824\n",
      " 0.58730155 0.62896818 0.61904754 0.69543649 0.71726184 0.69146821\n",
      " 0.70634916 0.6934523  0.73313484 0.72023807 0.71726184 0.71964848\n",
      " 0.71801275 0.71744514 0.71683621 0.71574438 0.71394306 0.71138984\n",
      " 0.70818096 0.70448142 0.70045942 0.69624704 0.69193006 0.68755651\n",
      " 0.68315047 0.67873013 0.67431295 0.66992193]\n",
      "17 day output [[0.6655841]]\n",
      "18 day input [0.26785713 0.23214284 0.24305554 0.21825396 0.23015872 0.2549603\n",
      " 0.27678566 0.27480157 0.26785713 0.26388889 0.27976189 0.31547615\n",
      " 0.30357143 0.31547615 0.32043647 0.30952379 0.32142851 0.31448411\n",
      " 0.31250002 0.31051583 0.30158724 0.3303571  0.33928569 0.33234129\n",
      " 0.34920633 0.34920633 0.3531746  0.34722224 0.34920633 0.36607137\n",
      " 0.38492059 0.47222221 0.50099207 0.49603176 0.49404757 0.50099207\n",
      " 0.52579366 0.52876979 0.53769838 0.53472215 0.53472215 0.55257933\n",
      " 0.5426587  0.52579366 0.50595239 0.55357138 0.60416659 0.61111109\n",
      " 0.60119046 0.60515873 0.61507937 0.61507937 0.60317455 0.6478174\n",
      " 0.62996032 0.63492064 0.65376976 0.640873   0.64980159 0.63690472\n",
      " 0.64980159 0.6865079  0.65079363 0.65376976 0.65773804 0.64682536\n",
      " 0.64484127 0.60615078 0.57738092 0.58134919 0.56646824 0.58730155\n",
      " 0.62896818 0.61904754 0.69543649 0.71726184 0.69146821 0.70634916\n",
      " 0.6934523  0.73313484 0.72023807 0.71726184 0.71964848 0.71801275\n",
      " 0.71744514 0.71683621 0.71574438 0.71394306 0.71138984 0.70818096\n",
      " 0.70448142 0.70045942 0.69624704 0.69193006 0.68755651 0.68315047\n",
      " 0.67873013 0.67431295 0.66992193 0.66558409]\n",
      "18 day output [[0.6613259]]\n",
      "19 day input [0.23214284 0.24305554 0.21825396 0.23015872 0.2549603  0.27678566\n",
      " 0.27480157 0.26785713 0.26388889 0.27976189 0.31547615 0.30357143\n",
      " 0.31547615 0.32043647 0.30952379 0.32142851 0.31448411 0.31250002\n",
      " 0.31051583 0.30158724 0.3303571  0.33928569 0.33234129 0.34920633\n",
      " 0.34920633 0.3531746  0.34722224 0.34920633 0.36607137 0.38492059\n",
      " 0.47222221 0.50099207 0.49603176 0.49404757 0.50099207 0.52579366\n",
      " 0.52876979 0.53769838 0.53472215 0.53472215 0.55257933 0.5426587\n",
      " 0.52579366 0.50595239 0.55357138 0.60416659 0.61111109 0.60119046\n",
      " 0.60515873 0.61507937 0.61507937 0.60317455 0.6478174  0.62996032\n",
      " 0.63492064 0.65376976 0.640873   0.64980159 0.63690472 0.64980159\n",
      " 0.6865079  0.65079363 0.65376976 0.65773804 0.64682536 0.64484127\n",
      " 0.60615078 0.57738092 0.58134919 0.56646824 0.58730155 0.62896818\n",
      " 0.61904754 0.69543649 0.71726184 0.69146821 0.70634916 0.6934523\n",
      " 0.73313484 0.72023807 0.71726184 0.71964848 0.71801275 0.71744514\n",
      " 0.71683621 0.71574438 0.71394306 0.71138984 0.70818096 0.70448142\n",
      " 0.70045942 0.69624704 0.69193006 0.68755651 0.68315047 0.67873013\n",
      " 0.67431295 0.66992193 0.66558409 0.66132587]\n",
      "19 day output [[0.6571737]]\n",
      "20 day input [0.24305554 0.21825396 0.23015872 0.2549603  0.27678566 0.27480157\n",
      " 0.26785713 0.26388889 0.27976189 0.31547615 0.30357143 0.31547615\n",
      " 0.32043647 0.30952379 0.32142851 0.31448411 0.31250002 0.31051583\n",
      " 0.30158724 0.3303571  0.33928569 0.33234129 0.34920633 0.34920633\n",
      " 0.3531746  0.34722224 0.34920633 0.36607137 0.38492059 0.47222221\n",
      " 0.50099207 0.49603176 0.49404757 0.50099207 0.52579366 0.52876979\n",
      " 0.53769838 0.53472215 0.53472215 0.55257933 0.5426587  0.52579366\n",
      " 0.50595239 0.55357138 0.60416659 0.61111109 0.60119046 0.60515873\n",
      " 0.61507937 0.61507937 0.60317455 0.6478174  0.62996032 0.63492064\n",
      " 0.65376976 0.640873   0.64980159 0.63690472 0.64980159 0.6865079\n",
      " 0.65079363 0.65376976 0.65773804 0.64682536 0.64484127 0.60615078\n",
      " 0.57738092 0.58134919 0.56646824 0.58730155 0.62896818 0.61904754\n",
      " 0.69543649 0.71726184 0.69146821 0.70634916 0.6934523  0.73313484\n",
      " 0.72023807 0.71726184 0.71964848 0.71801275 0.71744514 0.71683621\n",
      " 0.71574438 0.71394306 0.71138984 0.70818096 0.70448142 0.70045942\n",
      " 0.69624704 0.69193006 0.68755651 0.68315047 0.67873013 0.67431295\n",
      " 0.66992193 0.66558409 0.66132587 0.65717369]\n",
      "20 day output [[0.65314955]]\n",
      "21 day input [0.21825396 0.23015872 0.2549603  0.27678566 0.27480157 0.26785713\n",
      " 0.26388889 0.27976189 0.31547615 0.30357143 0.31547615 0.32043647\n",
      " 0.30952379 0.32142851 0.31448411 0.31250002 0.31051583 0.30158724\n",
      " 0.3303571  0.33928569 0.33234129 0.34920633 0.34920633 0.3531746\n",
      " 0.34722224 0.34920633 0.36607137 0.38492059 0.47222221 0.50099207\n",
      " 0.49603176 0.49404757 0.50099207 0.52579366 0.52876979 0.53769838\n",
      " 0.53472215 0.53472215 0.55257933 0.5426587  0.52579366 0.50595239\n",
      " 0.55357138 0.60416659 0.61111109 0.60119046 0.60515873 0.61507937\n",
      " 0.61507937 0.60317455 0.6478174  0.62996032 0.63492064 0.65376976\n",
      " 0.640873   0.64980159 0.63690472 0.64980159 0.6865079  0.65079363\n",
      " 0.65376976 0.65773804 0.64682536 0.64484127 0.60615078 0.57738092\n",
      " 0.58134919 0.56646824 0.58730155 0.62896818 0.61904754 0.69543649\n",
      " 0.71726184 0.69146821 0.70634916 0.6934523  0.73313484 0.72023807\n",
      " 0.71726184 0.71964848 0.71801275 0.71744514 0.71683621 0.71574438\n",
      " 0.71394306 0.71138984 0.70818096 0.70448142 0.70045942 0.69624704\n",
      " 0.69193006 0.68755651 0.68315047 0.67873013 0.67431295 0.66992193\n",
      " 0.66558409 0.66132587 0.65717369 0.65314955]\n",
      "21 day output [[0.64927095]]\n",
      "22 day input [0.23015872 0.2549603  0.27678566 0.27480157 0.26785713 0.26388889\n",
      " 0.27976189 0.31547615 0.30357143 0.31547615 0.32043647 0.30952379\n",
      " 0.32142851 0.31448411 0.31250002 0.31051583 0.30158724 0.3303571\n",
      " 0.33928569 0.33234129 0.34920633 0.34920633 0.3531746  0.34722224\n",
      " 0.34920633 0.36607137 0.38492059 0.47222221 0.50099207 0.49603176\n",
      " 0.49404757 0.50099207 0.52579366 0.52876979 0.53769838 0.53472215\n",
      " 0.53472215 0.55257933 0.5426587  0.52579366 0.50595239 0.55357138\n",
      " 0.60416659 0.61111109 0.60119046 0.60515873 0.61507937 0.61507937\n",
      " 0.60317455 0.6478174  0.62996032 0.63492064 0.65376976 0.640873\n",
      " 0.64980159 0.63690472 0.64980159 0.6865079  0.65079363 0.65376976\n",
      " 0.65773804 0.64682536 0.64484127 0.60615078 0.57738092 0.58134919\n",
      " 0.56646824 0.58730155 0.62896818 0.61904754 0.69543649 0.71726184\n",
      " 0.69146821 0.70634916 0.6934523  0.73313484 0.72023807 0.71726184\n",
      " 0.71964848 0.71801275 0.71744514 0.71683621 0.71574438 0.71394306\n",
      " 0.71138984 0.70818096 0.70448142 0.70045942 0.69624704 0.69193006\n",
      " 0.68755651 0.68315047 0.67873013 0.67431295 0.66992193 0.66558409\n",
      " 0.66132587 0.65717369 0.65314955 0.64927095]\n",
      "22 day output [[0.64555156]]\n",
      "23 day input [0.2549603  0.27678566 0.27480157 0.26785713 0.26388889 0.27976189\n",
      " 0.31547615 0.30357143 0.31547615 0.32043647 0.30952379 0.32142851\n",
      " 0.31448411 0.31250002 0.31051583 0.30158724 0.3303571  0.33928569\n",
      " 0.33234129 0.34920633 0.34920633 0.3531746  0.34722224 0.34920633\n",
      " 0.36607137 0.38492059 0.47222221 0.50099207 0.49603176 0.49404757\n",
      " 0.50099207 0.52579366 0.52876979 0.53769838 0.53472215 0.53472215\n",
      " 0.55257933 0.5426587  0.52579366 0.50595239 0.55357138 0.60416659\n",
      " 0.61111109 0.60119046 0.60515873 0.61507937 0.61507937 0.60317455\n",
      " 0.6478174  0.62996032 0.63492064 0.65376976 0.640873   0.64980159\n",
      " 0.63690472 0.64980159 0.6865079  0.65079363 0.65376976 0.65773804\n",
      " 0.64682536 0.64484127 0.60615078 0.57738092 0.58134919 0.56646824\n",
      " 0.58730155 0.62896818 0.61904754 0.69543649 0.71726184 0.69146821\n",
      " 0.70634916 0.6934523  0.73313484 0.72023807 0.71726184 0.71964848\n",
      " 0.71801275 0.71744514 0.71683621 0.71574438 0.71394306 0.71138984\n",
      " 0.70818096 0.70448142 0.70045942 0.69624704 0.69193006 0.68755651\n",
      " 0.68315047 0.67873013 0.67431295 0.66992193 0.66558409 0.66132587\n",
      " 0.65717369 0.65314955 0.64927095 0.64555156]\n",
      "23 day output [[0.6420016]]\n",
      "24 day input [0.27678566 0.27480157 0.26785713 0.26388889 0.27976189 0.31547615\n",
      " 0.30357143 0.31547615 0.32043647 0.30952379 0.32142851 0.31448411\n",
      " 0.31250002 0.31051583 0.30158724 0.3303571  0.33928569 0.33234129\n",
      " 0.34920633 0.34920633 0.3531746  0.34722224 0.34920633 0.36607137\n",
      " 0.38492059 0.47222221 0.50099207 0.49603176 0.49404757 0.50099207\n",
      " 0.52579366 0.52876979 0.53769838 0.53472215 0.53472215 0.55257933\n",
      " 0.5426587  0.52579366 0.50595239 0.55357138 0.60416659 0.61111109\n",
      " 0.60119046 0.60515873 0.61507937 0.61507937 0.60317455 0.6478174\n",
      " 0.62996032 0.63492064 0.65376976 0.640873   0.64980159 0.63690472\n",
      " 0.64980159 0.6865079  0.65079363 0.65376976 0.65773804 0.64682536\n",
      " 0.64484127 0.60615078 0.57738092 0.58134919 0.56646824 0.58730155\n",
      " 0.62896818 0.61904754 0.69543649 0.71726184 0.69146821 0.70634916\n",
      " 0.6934523  0.73313484 0.72023807 0.71726184 0.71964848 0.71801275\n",
      " 0.71744514 0.71683621 0.71574438 0.71394306 0.71138984 0.70818096\n",
      " 0.70448142 0.70045942 0.69624704 0.69193006 0.68755651 0.68315047\n",
      " 0.67873013 0.67431295 0.66992193 0.66558409 0.66132587 0.65717369\n",
      " 0.65314955 0.64927095 0.64555156 0.64200163]\n",
      "24 day output [[0.63862884]]\n",
      "25 day input [0.27480157 0.26785713 0.26388889 0.27976189 0.31547615 0.30357143\n",
      " 0.31547615 0.32043647 0.30952379 0.32142851 0.31448411 0.31250002\n",
      " 0.31051583 0.30158724 0.3303571  0.33928569 0.33234129 0.34920633\n",
      " 0.34920633 0.3531746  0.34722224 0.34920633 0.36607137 0.38492059\n",
      " 0.47222221 0.50099207 0.49603176 0.49404757 0.50099207 0.52579366\n",
      " 0.52876979 0.53769838 0.53472215 0.53472215 0.55257933 0.5426587\n",
      " 0.52579366 0.50595239 0.55357138 0.60416659 0.61111109 0.60119046\n",
      " 0.60515873 0.61507937 0.61507937 0.60317455 0.6478174  0.62996032\n",
      " 0.63492064 0.65376976 0.640873   0.64980159 0.63690472 0.64980159\n",
      " 0.6865079  0.65079363 0.65376976 0.65773804 0.64682536 0.64484127\n",
      " 0.60615078 0.57738092 0.58134919 0.56646824 0.58730155 0.62896818\n",
      " 0.61904754 0.69543649 0.71726184 0.69146821 0.70634916 0.6934523\n",
      " 0.73313484 0.72023807 0.71726184 0.71964848 0.71801275 0.71744514\n",
      " 0.71683621 0.71574438 0.71394306 0.71138984 0.70818096 0.70448142\n",
      " 0.70045942 0.69624704 0.69193006 0.68755651 0.68315047 0.67873013\n",
      " 0.67431295 0.66992193 0.66558409 0.66132587 0.65717369 0.65314955\n",
      " 0.64927095 0.64555156 0.64200163 0.63862884]\n",
      "25 day output [[0.63543856]]\n",
      "26 day input [0.26785713 0.26388889 0.27976189 0.31547615 0.30357143 0.31547615\n",
      " 0.32043647 0.30952379 0.32142851 0.31448411 0.31250002 0.31051583\n",
      " 0.30158724 0.3303571  0.33928569 0.33234129 0.34920633 0.34920633\n",
      " 0.3531746  0.34722224 0.34920633 0.36607137 0.38492059 0.47222221\n",
      " 0.50099207 0.49603176 0.49404757 0.50099207 0.52579366 0.52876979\n",
      " 0.53769838 0.53472215 0.53472215 0.55257933 0.5426587  0.52579366\n",
      " 0.50595239 0.55357138 0.60416659 0.61111109 0.60119046 0.60515873\n",
      " 0.61507937 0.61507937 0.60317455 0.6478174  0.62996032 0.63492064\n",
      " 0.65376976 0.640873   0.64980159 0.63690472 0.64980159 0.6865079\n",
      " 0.65079363 0.65376976 0.65773804 0.64682536 0.64484127 0.60615078\n",
      " 0.57738092 0.58134919 0.56646824 0.58730155 0.62896818 0.61904754\n",
      " 0.69543649 0.71726184 0.69146821 0.70634916 0.6934523  0.73313484\n",
      " 0.72023807 0.71726184 0.71964848 0.71801275 0.71744514 0.71683621\n",
      " 0.71574438 0.71394306 0.71138984 0.70818096 0.70448142 0.70045942\n",
      " 0.69624704 0.69193006 0.68755651 0.68315047 0.67873013 0.67431295\n",
      " 0.66992193 0.66558409 0.66132587 0.65717369 0.65314955 0.64927095\n",
      " 0.64555156 0.64200163 0.63862884 0.63543856]\n",
      "26 day output [[0.6324349]]\n",
      "27 day input [0.26388889 0.27976189 0.31547615 0.30357143 0.31547615 0.32043647\n",
      " 0.30952379 0.32142851 0.31448411 0.31250002 0.31051583 0.30158724\n",
      " 0.3303571  0.33928569 0.33234129 0.34920633 0.34920633 0.3531746\n",
      " 0.34722224 0.34920633 0.36607137 0.38492059 0.47222221 0.50099207\n",
      " 0.49603176 0.49404757 0.50099207 0.52579366 0.52876979 0.53769838\n",
      " 0.53472215 0.53472215 0.55257933 0.5426587  0.52579366 0.50595239\n",
      " 0.55357138 0.60416659 0.61111109 0.60119046 0.60515873 0.61507937\n",
      " 0.61507937 0.60317455 0.6478174  0.62996032 0.63492064 0.65376976\n",
      " 0.640873   0.64980159 0.63690472 0.64980159 0.6865079  0.65079363\n",
      " 0.65376976 0.65773804 0.64682536 0.64484127 0.60615078 0.57738092\n",
      " 0.58134919 0.56646824 0.58730155 0.62896818 0.61904754 0.69543649\n",
      " 0.71726184 0.69146821 0.70634916 0.6934523  0.73313484 0.72023807\n",
      " 0.71726184 0.71964848 0.71801275 0.71744514 0.71683621 0.71574438\n",
      " 0.71394306 0.71138984 0.70818096 0.70448142 0.70045942 0.69624704\n",
      " 0.69193006 0.68755651 0.68315047 0.67873013 0.67431295 0.66992193\n",
      " 0.66558409 0.66132587 0.65717369 0.65314955 0.64927095 0.64555156\n",
      " 0.64200163 0.63862884 0.63543856 0.6324349 ]\n",
      "27 day output [[0.6296198]]\n",
      "28 day input [0.27976189 0.31547615 0.30357143 0.31547615 0.32043647 0.30952379\n",
      " 0.32142851 0.31448411 0.31250002 0.31051583 0.30158724 0.3303571\n",
      " 0.33928569 0.33234129 0.34920633 0.34920633 0.3531746  0.34722224\n",
      " 0.34920633 0.36607137 0.38492059 0.47222221 0.50099207 0.49603176\n",
      " 0.49404757 0.50099207 0.52579366 0.52876979 0.53769838 0.53472215\n",
      " 0.53472215 0.55257933 0.5426587  0.52579366 0.50595239 0.55357138\n",
      " 0.60416659 0.61111109 0.60119046 0.60515873 0.61507937 0.61507937\n",
      " 0.60317455 0.6478174  0.62996032 0.63492064 0.65376976 0.640873\n",
      " 0.64980159 0.63690472 0.64980159 0.6865079  0.65079363 0.65376976\n",
      " 0.65773804 0.64682536 0.64484127 0.60615078 0.57738092 0.58134919\n",
      " 0.56646824 0.58730155 0.62896818 0.61904754 0.69543649 0.71726184\n",
      " 0.69146821 0.70634916 0.6934523  0.73313484 0.72023807 0.71726184\n",
      " 0.71964848 0.71801275 0.71744514 0.71683621 0.71574438 0.71394306\n",
      " 0.71138984 0.70818096 0.70448142 0.70045942 0.69624704 0.69193006\n",
      " 0.68755651 0.68315047 0.67873013 0.67431295 0.66992193 0.66558409\n",
      " 0.66132587 0.65717369 0.65314955 0.64927095 0.64555156 0.64200163\n",
      " 0.63862884 0.63543856 0.6324349  0.62961978]\n",
      "28 day output [[0.626994]]\n",
      "29 day input [0.31547615 0.30357143 0.31547615 0.32043647 0.30952379 0.32142851\n",
      " 0.31448411 0.31250002 0.31051583 0.30158724 0.3303571  0.33928569\n",
      " 0.33234129 0.34920633 0.34920633 0.3531746  0.34722224 0.34920633\n",
      " 0.36607137 0.38492059 0.47222221 0.50099207 0.49603176 0.49404757\n",
      " 0.50099207 0.52579366 0.52876979 0.53769838 0.53472215 0.53472215\n",
      " 0.55257933 0.5426587  0.52579366 0.50595239 0.55357138 0.60416659\n",
      " 0.61111109 0.60119046 0.60515873 0.61507937 0.61507937 0.60317455\n",
      " 0.6478174  0.62996032 0.63492064 0.65376976 0.640873   0.64980159\n",
      " 0.63690472 0.64980159 0.6865079  0.65079363 0.65376976 0.65773804\n",
      " 0.64682536 0.64484127 0.60615078 0.57738092 0.58134919 0.56646824\n",
      " 0.58730155 0.62896818 0.61904754 0.69543649 0.71726184 0.69146821\n",
      " 0.70634916 0.6934523  0.73313484 0.72023807 0.71726184 0.71964848\n",
      " 0.71801275 0.71744514 0.71683621 0.71574438 0.71394306 0.71138984\n",
      " 0.70818096 0.70448142 0.70045942 0.69624704 0.69193006 0.68755651\n",
      " 0.68315047 0.67873013 0.67431295 0.66992193 0.66558409 0.66132587\n",
      " 0.65717369 0.65314955 0.64927095 0.64555156 0.64200163 0.63862884\n",
      " 0.63543856 0.6324349  0.62961978 0.62699401]\n",
      "29 day output [[0.6245572]]\n",
      "[[0.7196484804153442], [0.7180127501487732], [0.7174451351165771], [0.7168362140655518], [0.7157443761825562], [0.7139430642127991], [0.7113898396492004], [0.7081809639930725], [0.7044814229011536], [0.7004594206809998], [0.6962470412254333], [0.6919300556182861], [0.6875565052032471], [0.6831504702568054], [0.6787301301956177], [0.674312949180603], [0.6699219346046448], [0.6655840873718262], [0.6613258719444275], [0.6571736931800842], [0.6531495451927185], [0.6492709517478943], [0.6455515623092651], [0.6420016288757324], [0.6386288404464722], [0.6354385614395142], [0.6324349045753479], [0.6296197772026062], [0.6269940137863159], [0.6245571970939636]]\n"
     ]
    }
   ],
   "source": [
    "# demonstrate prediction for next 10 days\n",
    "from numpy import array\n",
    "\n",
    "lst_output=[]\n",
    "n_steps=100\n",
    "i=0\n",
    "while(i<30):\n",
    "    \n",
    "    if(len(temp_input)>100): # as we are getting 101 records We are shifting the dataset by 1\n",
    "        #print(temp_input)\n",
    "        x_input=np.array(temp_input[1:])\n",
    "        print(\"{} day input {}\".format(i,x_input))\n",
    "        x_input=x_input.reshape(1,-1)\n",
    "        x_input = x_input.reshape((1, n_steps, 1))\n",
    "        #print(x_input)\n",
    "        yhat = model.predict(x_input, verbose=0)\n",
    "        print(\"{} day output {}\".format(i,yhat))\n",
    "        temp_input.extend(yhat[0].tolist())\n",
    "        temp_input=temp_input[1:]\n",
    "        #print(temp_input)\n",
    "        lst_output.extend(yhat.tolist())\n",
    "        i=i+1\n",
    "    else: # reshape and pass the 100 days data and predicting\n",
    "        x_input = x_input.reshape((1, n_steps,1))\n",
    "        yhat = model.predict(x_input, verbose=0)\n",
    "        print(yhat[0])\n",
    "        temp_input.extend(yhat[0].tolist())\n",
    "        print(len(temp_input))\n",
    "        lst_output.extend(yhat.tolist())\n",
    "        i=i+1\n",
    "    \n",
    "\n",
    "print(lst_output)\n"
   ]
  },
  {
   "cell_type": "code",
   "execution_count": 39,
   "id": "821ac45b",
   "metadata": {},
   "outputs": [],
   "source": [
    "# PLOTTING\n",
    "day_new=np.arange(1,101) # 100 indexes\n",
    "day_pred=np.arange(101,131) # taking 30 days as we are predicting 30 days future"
   ]
  },
  {
   "cell_type": "code",
   "execution_count": 41,
   "id": "65e77f42",
   "metadata": {},
   "outputs": [
    {
     "data": {
      "text/plain": [
       "1236"
      ]
     },
     "execution_count": 41,
     "metadata": {},
     "output_type": "execute_result"
    }
   ],
   "source": [
    "len(df1)"
   ]
  },
  {
   "cell_type": "code",
   "execution_count": 43,
   "id": "fbcaf52b",
   "metadata": {},
   "outputs": [
    {
     "data": {
      "text/plain": [
       "[<matplotlib.lines.Line2D at 0x1bff1d62b20>]"
      ]
     },
     "execution_count": 43,
     "metadata": {},
     "output_type": "execute_result"
    },
    {
     "data": {
      "image/png": "[encoded data removed]",
      "text/plain": [
       "<Figure size 432x288 with 1 Axes>"
      ]
     },
     "metadata": {
      "needs_background": "light"
     },
     "output_type": "display_data"
    }
   ],
   "source": [
    "# 1136 to 1236 -- 100 days\n",
    "# Orange line is showing next 30 days prediction\n",
    "\n",
    "plt.plot(day_new,scaler.inverse_transform(df1[1136:]))\n",
    "plt.plot(day_pred,scaler.inverse_transform(lst_output))"
   ]
  },
  {
   "cell_type": "code",
   "execution_count": null,
   "id": "3b8d5fe9",
   "metadata": {},
   "outputs": [],
   "source": []
  }
 ],
 "metadata": {
  "kernelspec": {
   "display_name": "Python 3 (ipykernel)",
   "language": "python",
   "name": "python3"
  },
  "language_info": {
   "codemirror_mode": {
    "name": "ipython",
    "version": 3
   },
   "file_extension": ".py",
   "mimetype": "text/x-python",
   "name": "python",
   "nbconvert_exporter": "python",
   "pygments_lexer": "ipython3",
   "version": "3.9.13"
  }
 },
 "nbformat": 4,
 "nbformat_minor": 5
}
