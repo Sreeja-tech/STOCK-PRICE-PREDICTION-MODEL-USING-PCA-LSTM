{
 "cells": [
  {
   "cell_type": "code",
   "execution_count": 1,
   "id": "ede4d2a3",
   "metadata": {},
   "outputs": [],
   "source": [
    "import pandas as pd\n",
    "import numpy as np\n",
    "import matplotlib.pyplot as plt"
   ]
  },
  {
   "cell_type": "code",
   "execution_count": 2,
   "id": "fe86513a",
   "metadata": {},
   "outputs": [
    {
     "data": {
      "text/html": [
       "<div>\n",
       "<style scoped>\n",
       "    .dataframe tbody tr th:only-of-type {\n",
       "        vertical-align: middle;\n",
       "    }\n",
       "\n",
       "    .dataframe tbody tr th {\n",
       "        vertical-align: top;\n",
       "    }\n",
       "\n",
       "    .dataframe thead th {\n",
       "        text-align: right;\n",
       "    }\n",
       "</style>\n",
       "<table border=\"1\" class=\"dataframe\">\n",
       "  <thead>\n",
       "    <tr style=\"text-align: right;\">\n",
       "      <th></th>\n",
       "      <th>Date</th>\n",
       "      <th>Open</th>\n",
       "      <th>High</th>\n",
       "      <th>Low</th>\n",
       "      <th>Close</th>\n",
       "      <th>Adj Close</th>\n",
       "      <th>Volume</th>\n",
       "      <th>Returns</th>\n",
       "    </tr>\n",
       "  </thead>\n",
       "  <tbody>\n",
       "    <tr>\n",
       "      <th>0</th>\n",
       "      <td>16-10-2017</td>\n",
       "      <td>49.330002</td>\n",
       "      <td>49.645000</td>\n",
       "      <td>48.009998</td>\n",
       "      <td>48.264999</td>\n",
       "      <td>46.964260</td>\n",
       "      <td>1696800</td>\n",
       "      <td>NaN</td>\n",
       "    </tr>\n",
       "    <tr>\n",
       "      <th>1</th>\n",
       "      <td>17-10-2017</td>\n",
       "      <td>48.130001</td>\n",
       "      <td>48.334999</td>\n",
       "      <td>47.244999</td>\n",
       "      <td>47.299999</td>\n",
       "      <td>46.025269</td>\n",
       "      <td>1793200</td>\n",
       "      <td>-1.999374</td>\n",
       "    </tr>\n",
       "    <tr>\n",
       "      <th>2</th>\n",
       "      <td>18-10-2017</td>\n",
       "      <td>48.060001</td>\n",
       "      <td>48.195000</td>\n",
       "      <td>47.435001</td>\n",
       "      <td>47.634998</td>\n",
       "      <td>46.351238</td>\n",
       "      <td>1940000</td>\n",
       "      <td>0.708239</td>\n",
       "    </tr>\n",
       "    <tr>\n",
       "      <th>3</th>\n",
       "      <td>19-10-2017</td>\n",
       "      <td>47.340000</td>\n",
       "      <td>47.830002</td>\n",
       "      <td>46.884998</td>\n",
       "      <td>47.779999</td>\n",
       "      <td>46.492329</td>\n",
       "      <td>1066800</td>\n",
       "      <td>0.304395</td>\n",
       "    </tr>\n",
       "    <tr>\n",
       "      <th>4</th>\n",
       "      <td>20-10-2017</td>\n",
       "      <td>47.910000</td>\n",
       "      <td>48.169998</td>\n",
       "      <td>47.615002</td>\n",
       "      <td>48.000000</td>\n",
       "      <td>46.706398</td>\n",
       "      <td>1119600</td>\n",
       "      <td>0.460439</td>\n",
       "    </tr>\n",
       "  </tbody>\n",
       "</table>\n",
       "</div>"
      ],
      "text/plain": [
       "         Date       Open       High        Low      Close  Adj Close   Volume  \\\n",
       "0  16-10-2017  49.330002  49.645000  48.009998  48.264999  46.964260  1696800   \n",
       "1  17-10-2017  48.130001  48.334999  47.244999  47.299999  46.025269  1793200   \n",
       "2  18-10-2017  48.060001  48.195000  47.435001  47.634998  46.351238  1940000   \n",
       "3  19-10-2017  47.340000  47.830002  46.884998  47.779999  46.492329  1066800   \n",
       "4  20-10-2017  47.910000  48.169998  47.615002  48.000000  46.706398  1119600   \n",
       "\n",
       "    Returns  \n",
       "0       NaN  \n",
       "1 -1.999374  \n",
       "2  0.708239  \n",
       "3  0.304395  \n",
       "4  0.460439  "
      ]
     },
     "execution_count": 2,
     "metadata": {},
     "output_type": "execute_result"
    }
   ],
   "source": [
    "df = pd.read_csv(r\"C:\\Users\\SREEJA\\Downloads\\HDB.csv\")\n",
    "df.head()"
   ]
  },
  {
   "cell_type": "code",
   "execution_count": 3,
   "id": "a864c1cd",
   "metadata": {},
   "outputs": [],
   "source": [
    "df1 = df.reset_index()[\"Close\"]"
   ]
  },
  {
   "cell_type": "code",
   "execution_count": 4,
   "id": "073a826f",
   "metadata": {},
   "outputs": [
    {
     "data": {
      "text/plain": [
       "0       48.264999\n",
       "1       47.299999\n",
       "2       47.634998\n",
       "3       47.779999\n",
       "4       48.000000\n",
       "          ...    \n",
       "1254    57.599998\n",
       "1255    56.470001\n",
       "1256    56.869999\n",
       "1257    57.650002\n",
       "1258    57.970001\n",
       "Name: Close, Length: 1259, dtype: float64"
      ]
     },
     "execution_count": 4,
     "metadata": {},
     "output_type": "execute_result"
    }
   ],
   "source": [
    "df1"
   ]
  },
  {
   "cell_type": "code",
   "execution_count": 5,
   "id": "3bbde3ca",
   "metadata": {},
   "outputs": [
    {
     "data": {
      "text/plain": [
       "(1259,)"
      ]
     },
     "execution_count": 5,
     "metadata": {},
     "output_type": "execute_result"
    }
   ],
   "source": [
    "df1.shape"
   ]
  },
  {
   "cell_type": "code",
   "execution_count": 6,
   "id": "1afa1df3",
   "metadata": {},
   "outputs": [
    {
     "data": {
      "text/plain": [
       "[<matplotlib.lines.Line2D at 0x269cbffa8e0>]"
      ]
     },
     "execution_count": 6,
     "metadata": {},
     "output_type": "execute_result"
    },
    {
     "data": {
      "image/png": "[encoded data removed]",
      "text/plain": [
       "<Figure size 432x288 with 1 Axes>"
      ]
     },
     "metadata": {
      "needs_background": "light"
     },
     "output_type": "display_data"
    }
   ],
   "source": [
    "plt.plot(df1)"
   ]
  },
  {
   "cell_type": "code",
   "execution_count": 7,
   "id": "bb3bcfa7",
   "metadata": {},
   "outputs": [],
   "source": [
    "# LSTM are very sensitive to the scale of the data.\n",
    "# So we apply MinMax Scaler to transform our values between 0 to 1\n",
    "from sklearn.preprocessing import MinMaxScaler\n",
    "scaler= MinMaxScaler(feature_range=(0,1))\n",
    "df1 = scaler.fit_transform(np.array(df1).reshape(-1,1)) # to provide input to fit_transform"
   ]
  },
  {
   "cell_type": "code",
   "execution_count": 8,
   "id": "8bad48aa",
   "metadata": {},
   "outputs": [
    {
     "data": {
      "text/plain": [
       "(1259, 1)"
      ]
     },
     "execution_count": 8,
     "metadata": {},
     "output_type": "execute_result"
    }
   ],
   "source": [
    "df1.shape\n"
   ]
  },
  {
   "cell_type": "code",
   "execution_count": 9,
   "id": "e8422a7c",
   "metadata": {},
   "outputs": [
    {
     "data": {
      "text/plain": [
       "array([[0.34030488],\n",
       "       [0.32236475],\n",
       "       [0.32859265],\n",
       "       ...,\n",
       "       [0.50027885],\n",
       "       [0.51477975],\n",
       "       [0.52072879]])"
      ]
     },
     "execution_count": 9,
     "metadata": {},
     "output_type": "execute_result"
    }
   ],
   "source": [
    "# All values are transformed between 0 to 1 after applying MinMax\n",
    "df1"
   ]
  },
  {
   "cell_type": "code",
   "execution_count": 10,
   "id": "ab8e35bc",
   "metadata": {},
   "outputs": [],
   "source": [
    "# DATASET PREPROCESSING\n",
    "# Train and Test Split\n",
    "training_size = int(len(df1)*0.65) # 65% training data size\n",
    "test_size = len(df1) - training_size # 35% test data size"
   ]
  },
  {
   "cell_type": "code",
   "execution_count": 11,
   "id": "fd3b3c63",
   "metadata": {},
   "outputs": [
    {
     "data": {
      "text/plain": [
       "(818, 441)"
      ]
     },
     "execution_count": 11,
     "metadata": {},
     "output_type": "execute_result"
    }
   ],
   "source": [
    "training_size,test_size "
   ]
  },
  {
   "cell_type": "code",
   "execution_count": 12,
   "id": "9395712b",
   "metadata": {},
   "outputs": [],
   "source": [
    "# Till 803th it will get stored under train_data\n",
    "# Remaining data will get stored under test_data\n",
    "train_data,test_data = df1[0:training_size,:],df1[training_size:len(df1),:1]"
   ]
  },
  {
   "cell_type": "code",
   "execution_count": 13,
   "id": "378aa41e",
   "metadata": {},
   "outputs": [
    {
     "data": {
      "text/plain": [
       "818"
      ]
     },
     "execution_count": 13,
     "metadata": {},
     "output_type": "execute_result"
    }
   ],
   "source": [
    "len(train_data) # checking the size"
   ]
  },
  {
   "cell_type": "code",
   "execution_count": 14,
   "id": "185b123c",
   "metadata": {},
   "outputs": [
    {
     "data": {
      "text/plain": [
       "441"
      ]
     },
     "execution_count": 14,
     "metadata": {},
     "output_type": "execute_result"
    }
   ],
   "source": [
    "len(test_data) # checking the size"
   ]
  },
  {
   "cell_type": "code",
   "execution_count": 15,
   "id": "703e2494",
   "metadata": {},
   "outputs": [],
   "source": [
    "# convert an array of values into a dataset matrix\n",
    "def create_dataset(dataset,time_step=1):\n",
    "    dataX,dataY = [],[]\n",
    "    for i in range(len(dataset)-time_step-1): # traversing through the dataset\n",
    "        a = dataset[i:(i+time_step),0] # based on our time step we are putting data into x and y\n",
    "        dataX.append(a)\n",
    "        dataY.append(dataset[i + time_step,0])\n",
    "    return np.array(dataX),np.array(dataY)"
   ]
  },
  {
   "cell_type": "code",
   "execution_count": 16,
   "id": "06c5e2e3",
   "metadata": {},
   "outputs": [],
   "source": [
    "time_step = 100\n",
    "X_train,y_train = create_dataset(train_data,time_step)\n",
    "X_test, ytest = create_dataset(test_data,time_step)"
   ]
  },
  {
   "cell_type": "code",
   "execution_count": 17,
   "id": "df254c21",
   "metadata": {},
   "outputs": [
    {
     "name": "stdout",
     "output_type": "stream",
     "text": [
      "[[0.34030488 0.32236475 0.32859265 ... 0.33073063 0.33138131 0.33900354]\n",
      " [0.32236475 0.32859265 0.33128834 ... 0.33138131 0.33900354 0.34885664]\n",
      " [0.32859265 0.33128834 0.33537834 ... 0.33900354 0.34885664 0.35183117]\n",
      " ...\n",
      " [0.32738428 0.32031976 0.33017293 ... 0.7588771  0.78081426 0.79847563]\n",
      " [0.32031976 0.33017293 0.3428147  ... 0.78081426 0.79847563 0.80423873]\n",
      " [0.33017293 0.3428147  0.36716861 ... 0.79847563 0.80423873 0.83379807]]\n"
     ]
    }
   ],
   "source": [
    "print(X_train)"
   ]
  },
  {
   "cell_type": "code",
   "execution_count": 18,
   "id": "865d96c1",
   "metadata": {},
   "outputs": [
    {
     "name": "stdout",
     "output_type": "stream",
     "text": [
      "[[0.83509941 0.83565726 0.84104847 ... 0.87302469 0.8735824  0.8791597 ]\n",
      " [0.83565726 0.84104847 0.80832873 ... 0.8735824  0.8791597  0.87897375]\n",
      " [0.84104847 0.80832873 0.82338725 ... 0.8791597  0.87897375 0.88306375]\n",
      " ...\n",
      " [0.42647337 0.4216397  0.44320505 ... 0.54712771 0.51106156 0.51385013]\n",
      " [0.4216397  0.44320505 0.44023052 ... 0.51106156 0.51385013 0.49284256]\n",
      " [0.44320505 0.44023052 0.45157093 ... 0.51385013 0.49284256 0.50027885]]\n"
     ]
    }
   ],
   "source": [
    "print(X_test)"
   ]
  },
  {
   "cell_type": "code",
   "execution_count": 19,
   "id": "39c34cd9",
   "metadata": {},
   "outputs": [
    {
     "name": "stdout",
     "output_type": "stream",
     "text": [
      "(340, 100)\n",
      "(340,)\n"
     ]
    },
    {
     "data": {
      "text/plain": [
       "(None, None)"
      ]
     },
     "execution_count": 19,
     "metadata": {},
     "output_type": "execute_result"
    }
   ],
   "source": [
    "print(X_test.shape),print(ytest.shape)"
   ]
  },
  {
   "cell_type": "code",
   "execution_count": 20,
   "id": "bc62292d",
   "metadata": {},
   "outputs": [
    {
     "name": "stdout",
     "output_type": "stream",
     "text": [
      "(717, 100)\n",
      "(717,)\n"
     ]
    },
    {
     "data": {
      "text/plain": [
       "(None, None)"
      ]
     },
     "execution_count": 20,
     "metadata": {},
     "output_type": "execute_result"
    }
   ],
   "source": [
    "print(X_train.shape),print(y_train.shape)"
   ]
  },
  {
   "cell_type": "code",
   "execution_count": 21,
   "id": "db53e6df",
   "metadata": {},
   "outputs": [],
   "source": [
    "# We need to convert this into 3D for LSTM\n",
    "# reshape input to be [samples,time steps,features] which is required for LSTM\n",
    "X_train =X_train.reshape(X_train.shape[0],X_train.shape[1] , 1)  #samples,time steps,features\n",
    "X_test = X_test.reshape(X_test.shape[0],X_test.shape[1] , 1)"
   ]
  },
  {
   "cell_type": "code",
   "execution_count": 22,
   "id": "635526fb",
   "metadata": {},
   "outputs": [
    {
     "data": {
      "text/plain": [
       "(717, 100, 1)"
      ]
     },
     "execution_count": 22,
     "metadata": {},
     "output_type": "execute_result"
    }
   ],
   "source": [
    "X_train.shape\n"
   ]
  },
  {
   "cell_type": "code",
   "execution_count": 23,
   "id": "ad424e31",
   "metadata": {},
   "outputs": [],
   "source": [
    "# Create LSTM MODEL\n",
    "from tensorflow.keras.models import Sequential\n",
    "from tensorflow.keras.layers import Dense\n",
    "from tensorflow.keras.layers import LSTM"
   ]
  },
  {
   "cell_type": "code",
   "execution_count": 24,
   "id": "b29eb653",
   "metadata": {},
   "outputs": [],
   "source": [
    "# Stacked LSTM MODEL (1 lstm after another)\n",
    "model=Sequential()\n",
    "model.add(LSTM(50,return_sequences=True,input_shape=(100,1)))\n",
    "model.add(LSTM(50,return_sequences=True))\n",
    "model.add(LSTM(50))\n",
    "model.add(Dense(1))\n",
    "model.compile(loss='mean_squared_error',optimizer='adam')"
   ]
  },
  {
   "cell_type": "code",
   "execution_count": 25,
   "id": "a4929198",
   "metadata": {},
   "outputs": [
    {
     "name": "stdout",
     "output_type": "stream",
     "text": [
      "Model: \"sequential\"\n",
      "_________________________________________________________________\n",
      " Layer (type)                Output Shape              Param #   \n",
      "=================================================================\n",
      " lstm (LSTM)                 (None, 100, 50)           10400     \n",
      "                                                                 \n",
      " lstm_1 (LSTM)               (None, 100, 50)           20200     \n",
      "                                                                 \n",
      " lstm_2 (LSTM)               (None, 50)                20200     \n",
      "                                                                 \n",
      " dense (Dense)               (None, 1)                 51        \n",
      "                                                                 \n",
      "=================================================================\n",
      "Total params: 50,851\n",
      "Trainable params: 50,851\n",
      "Non-trainable params: 0\n",
      "_________________________________________________________________\n"
     ]
    }
   ],
   "source": [
    "model.summary()"
   ]
  },
  {
   "cell_type": "code",
   "execution_count": 26,
   "id": "d71f4ef6",
   "metadata": {},
   "outputs": [
    {
     "name": "stdout",
     "output_type": "stream",
     "text": [
      "Epoch 1/100\n",
      "12/12 [==============================] - 10s 289ms/step - loss: 0.0734 - val_loss: 0.0129\n",
      "Epoch 2/100\n",
      "12/12 [==============================] - 2s 151ms/step - loss: 0.0103 - val_loss: 0.0062\n",
      "Epoch 3/100\n",
      "12/12 [==============================] - 3s 223ms/step - loss: 0.0063 - val_loss: 0.0173\n",
      "Epoch 4/100\n",
      "12/12 [==============================] - 3s 246ms/step - loss: 0.0053 - val_loss: 0.0060\n",
      "Epoch 5/100\n",
      "12/12 [==============================] - 3s 241ms/step - loss: 0.0042 - val_loss: 0.0041\n",
      "Epoch 6/100\n",
      "12/12 [==============================] - 3s 234ms/step - loss: 0.0035 - val_loss: 0.0037\n",
      "Epoch 7/100\n",
      "12/12 [==============================] - 3s 226ms/step - loss: 0.0032 - val_loss: 0.0035\n",
      "Epoch 8/100\n",
      "12/12 [==============================] - 3s 235ms/step - loss: 0.0030 - val_loss: 0.0037\n",
      "Epoch 9/100\n",
      "12/12 [==============================] - 3s 233ms/step - loss: 0.0027 - val_loss: 0.0036\n",
      "Epoch 10/100\n",
      "12/12 [==============================] - 3s 222ms/step - loss: 0.0025 - val_loss: 0.0039\n",
      "Epoch 11/100\n",
      "12/12 [==============================] - 3s 236ms/step - loss: 0.0025 - val_loss: 0.0038\n",
      "Epoch 12/100\n",
      "12/12 [==============================] - 3s 266ms/step - loss: 0.0022 - val_loss: 0.0041\n",
      "Epoch 13/100\n",
      "12/12 [==============================] - 3s 237ms/step - loss: 0.0021 - val_loss: 0.0042\n",
      "Epoch 14/100\n",
      "12/12 [==============================] - 3s 223ms/step - loss: 0.0022 - val_loss: 0.0045\n",
      "Epoch 15/100\n",
      "12/12 [==============================] - 3s 225ms/step - loss: 0.0020 - val_loss: 0.0041\n",
      "Epoch 16/100\n",
      "12/12 [==============================] - 3s 215ms/step - loss: 0.0020 - val_loss: 0.0041\n",
      "Epoch 17/100\n",
      "12/12 [==============================] - 3s 229ms/step - loss: 0.0020 - val_loss: 0.0040\n",
      "Epoch 18/100\n",
      "12/12 [==============================] - 3s 222ms/step - loss: 0.0019 - val_loss: 0.0042\n",
      "Epoch 19/100\n",
      "12/12 [==============================] - 3s 221ms/step - loss: 0.0019 - val_loss: 0.0040\n",
      "Epoch 20/100\n",
      "12/12 [==============================] - 3s 216ms/step - loss: 0.0019 - val_loss: 0.0040\n",
      "Epoch 21/100\n",
      "12/12 [==============================] - 3s 215ms/step - loss: 0.0018 - val_loss: 0.0042\n",
      "Epoch 22/100\n",
      "12/12 [==============================] - 2s 198ms/step - loss: 0.0019 - val_loss: 0.0040\n",
      "Epoch 23/100\n",
      "12/12 [==============================] - 2s 194ms/step - loss: 0.0018 - val_loss: 0.0039\n",
      "Epoch 24/100\n",
      "12/12 [==============================] - 2s 197ms/step - loss: 0.0019 - val_loss: 0.0044\n",
      "Epoch 25/100\n",
      "12/12 [==============================] - 2s 201ms/step - loss: 0.0018 - val_loss: 0.0036\n",
      "Epoch 26/100\n",
      "12/12 [==============================] - 2s 193ms/step - loss: 0.0017 - val_loss: 0.0043\n",
      "Epoch 27/100\n",
      "12/12 [==============================] - 2s 200ms/step - loss: 0.0017 - val_loss: 0.0040\n",
      "Epoch 28/100\n",
      "12/12 [==============================] - 3s 225ms/step - loss: 0.0017 - val_loss: 0.0037\n",
      "Epoch 29/100\n",
      "12/12 [==============================] - 3s 224ms/step - loss: 0.0017 - val_loss: 0.0041\n",
      "Epoch 30/100\n",
      "12/12 [==============================] - 2s 211ms/step - loss: 0.0016 - val_loss: 0.0036\n",
      "Epoch 31/100\n",
      "12/12 [==============================] - 3s 213ms/step - loss: 0.0016 - val_loss: 0.0035\n",
      "Epoch 32/100\n",
      "12/12 [==============================] - 2s 208ms/step - loss: 0.0016 - val_loss: 0.0033\n",
      "Epoch 33/100\n",
      "12/12 [==============================] - 3s 221ms/step - loss: 0.0015 - val_loss: 0.0041\n",
      "Epoch 34/100\n",
      "12/12 [==============================] - 2s 206ms/step - loss: 0.0015 - val_loss: 0.0033\n",
      "Epoch 35/100\n",
      "12/12 [==============================] - 2s 206ms/step - loss: 0.0015 - val_loss: 0.0048\n",
      "Epoch 36/100\n",
      "12/12 [==============================] - 2s 196ms/step - loss: 0.0017 - val_loss: 0.0032\n",
      "Epoch 37/100\n",
      "12/12 [==============================] - 2s 188ms/step - loss: 0.0014 - val_loss: 0.0036\n",
      "Epoch 38/100\n",
      "12/12 [==============================] - 2s 186ms/step - loss: 0.0014 - val_loss: 0.0033\n",
      "Epoch 39/100\n",
      "12/12 [==============================] - 2s 191ms/step - loss: 0.0014 - val_loss: 0.0036\n",
      "Epoch 40/100\n",
      "12/12 [==============================] - 2s 204ms/step - loss: 0.0015 - val_loss: 0.0040\n",
      "Epoch 41/100\n",
      "12/12 [==============================] - 3s 218ms/step - loss: 0.0014 - val_loss: 0.0032\n",
      "Epoch 42/100\n",
      "12/12 [==============================] - 2s 209ms/step - loss: 0.0014 - val_loss: 0.0032\n",
      "Epoch 43/100\n",
      "12/12 [==============================] - 2s 198ms/step - loss: 0.0017 - val_loss: 0.0058\n",
      "Epoch 44/100\n",
      "12/12 [==============================] - 2s 206ms/step - loss: 0.0019 - val_loss: 0.0041\n",
      "Epoch 45/100\n",
      "12/12 [==============================] - 2s 198ms/step - loss: 0.0016 - val_loss: 0.0031\n",
      "Epoch 46/100\n",
      "12/12 [==============================] - 2s 184ms/step - loss: 0.0013 - val_loss: 0.0028\n",
      "Epoch 47/100\n",
      "12/12 [==============================] - 2s 187ms/step - loss: 0.0013 - val_loss: 0.0031\n",
      "Epoch 48/100\n",
      "12/12 [==============================] - 2s 204ms/step - loss: 0.0013 - val_loss: 0.0027\n",
      "Epoch 49/100\n",
      "12/12 [==============================] - 2s 191ms/step - loss: 0.0013 - val_loss: 0.0030\n",
      "Epoch 50/100\n",
      "12/12 [==============================] - 2s 189ms/step - loss: 0.0013 - val_loss: 0.0028\n",
      "Epoch 51/100\n",
      "12/12 [==============================] - 2s 187ms/step - loss: 0.0013 - val_loss: 0.0027\n",
      "Epoch 52/100\n",
      "12/12 [==============================] - 2s 192ms/step - loss: 0.0012 - val_loss: 0.0028\n",
      "Epoch 53/100\n",
      "12/12 [==============================] - 2s 190ms/step - loss: 0.0012 - val_loss: 0.0035\n",
      "Epoch 54/100\n",
      "12/12 [==============================] - 2s 192ms/step - loss: 0.0012 - val_loss: 0.0028\n",
      "Epoch 55/100\n",
      "12/12 [==============================] - 2s 193ms/step - loss: 0.0013 - val_loss: 0.0029\n",
      "Epoch 56/100\n",
      "12/12 [==============================] - 2s 193ms/step - loss: 0.0012 - val_loss: 0.0022\n",
      "Epoch 57/100\n",
      "12/12 [==============================] - 2s 196ms/step - loss: 0.0012 - val_loss: 0.0022\n",
      "Epoch 58/100\n",
      "12/12 [==============================] - 3s 218ms/step - loss: 0.0011 - val_loss: 0.0022\n",
      "Epoch 59/100\n",
      "12/12 [==============================] - 2s 195ms/step - loss: 0.0011 - val_loss: 0.0023\n",
      "Epoch 60/100\n",
      "12/12 [==============================] - 3s 213ms/step - loss: 0.0011 - val_loss: 0.0022\n",
      "Epoch 61/100\n",
      "12/12 [==============================] - 2s 208ms/step - loss: 0.0011 - val_loss: 0.0020\n",
      "Epoch 62/100\n",
      "12/12 [==============================] - 2s 203ms/step - loss: 0.0010 - val_loss: 0.0029\n",
      "Epoch 63/100\n",
      "12/12 [==============================] - 2s 191ms/step - loss: 0.0012 - val_loss: 0.0027\n",
      "Epoch 64/100\n",
      "12/12 [==============================] - 2s 191ms/step - loss: 0.0011 - val_loss: 0.0020\n",
      "Epoch 65/100\n",
      "12/12 [==============================] - 2s 191ms/step - loss: 0.0010 - val_loss: 0.0019\n",
      "Epoch 66/100\n",
      "12/12 [==============================] - 2s 192ms/step - loss: 0.0010 - val_loss: 0.0019\n",
      "Epoch 67/100\n",
      "12/12 [==============================] - 2s 192ms/step - loss: 0.0011 - val_loss: 0.0022\n",
      "Epoch 68/100\n",
      "12/12 [==============================] - 2s 199ms/step - loss: 0.0011 - val_loss: 0.0018\n",
      "Epoch 69/100\n",
      "12/12 [==============================] - 2s 196ms/step - loss: 0.0010 - val_loss: 0.0017\n",
      "Epoch 70/100\n",
      "12/12 [==============================] - 2s 189ms/step - loss: 0.0010 - val_loss: 0.0025\n",
      "Epoch 71/100\n",
      "12/12 [==============================] - 2s 189ms/step - loss: 0.0011 - val_loss: 0.0015\n",
      "Epoch 72/100\n",
      "12/12 [==============================] - 2s 192ms/step - loss: 0.0012 - val_loss: 0.0027\n",
      "Epoch 73/100\n",
      "12/12 [==============================] - 2s 189ms/step - loss: 0.0011 - val_loss: 0.0023\n",
      "Epoch 74/100\n",
      "12/12 [==============================] - 2s 189ms/step - loss: 0.0010 - val_loss: 0.0017\n",
      "Epoch 75/100\n",
      "12/12 [==============================] - 2s 203ms/step - loss: 9.6439e-04 - val_loss: 0.0020\n",
      "Epoch 76/100\n",
      "12/12 [==============================] - 2s 193ms/step - loss: 9.8327e-04 - val_loss: 0.0016\n",
      "Epoch 77/100\n",
      "12/12 [==============================] - 2s 192ms/step - loss: 9.8647e-04 - val_loss: 0.0017\n",
      "Epoch 78/100\n",
      "12/12 [==============================] - 2s 192ms/step - loss: 9.4940e-04 - val_loss: 0.0022\n",
      "Epoch 79/100\n",
      "12/12 [==============================] - 2s 191ms/step - loss: 9.6889e-04 - val_loss: 0.0015\n",
      "Epoch 80/100\n",
      "12/12 [==============================] - 2s 196ms/step - loss: 9.2839e-04 - val_loss: 0.0026\n",
      "Epoch 81/100\n",
      "12/12 [==============================] - 2s 192ms/step - loss: 0.0011 - val_loss: 0.0018\n",
      "Epoch 82/100\n",
      "12/12 [==============================] - 2s 200ms/step - loss: 0.0010 - val_loss: 0.0017\n",
      "Epoch 83/100\n",
      "12/12 [==============================] - 2s 202ms/step - loss: 9.5276e-04 - val_loss: 0.0013\n",
      "Epoch 84/100\n",
      "12/12 [==============================] - 2s 213ms/step - loss: 9.9515e-04 - val_loss: 0.0014\n",
      "Epoch 85/100\n",
      "12/12 [==============================] - 2s 205ms/step - loss: 8.9724e-04 - val_loss: 0.0013\n",
      "Epoch 86/100\n",
      "12/12 [==============================] - 2s 202ms/step - loss: 8.8330e-04 - val_loss: 0.0013\n",
      "Epoch 87/100\n",
      "12/12 [==============================] - 2s 198ms/step - loss: 9.1591e-04 - val_loss: 0.0015\n",
      "Epoch 88/100\n",
      "12/12 [==============================] - 2s 196ms/step - loss: 8.9240e-04 - val_loss: 0.0013\n",
      "Epoch 89/100\n",
      "12/12 [==============================] - 3s 220ms/step - loss: 8.4556e-04 - val_loss: 0.0013\n",
      "Epoch 90/100\n",
      "12/12 [==============================] - 3s 228ms/step - loss: 8.2432e-04 - val_loss: 0.0013\n",
      "Epoch 91/100\n",
      "12/12 [==============================] - 2s 194ms/step - loss: 8.1587e-04 - val_loss: 0.0019\n",
      "Epoch 92/100\n",
      "12/12 [==============================] - 2s 199ms/step - loss: 8.5206e-04 - val_loss: 0.0012\n",
      "Epoch 93/100\n",
      "12/12 [==============================] - 2s 199ms/step - loss: 9.5802e-04 - val_loss: 0.0016\n",
      "Epoch 94/100\n",
      "12/12 [==============================] - 2s 191ms/step - loss: 8.9923e-04 - val_loss: 0.0012\n",
      "Epoch 95/100\n",
      "12/12 [==============================] - 2s 199ms/step - loss: 8.4405e-04 - val_loss: 0.0017\n",
      "Epoch 96/100\n",
      "12/12 [==============================] - 3s 227ms/step - loss: 8.7764e-04 - val_loss: 0.0012\n",
      "Epoch 97/100\n",
      "12/12 [==============================] - 3s 269ms/step - loss: 8.3187e-04 - val_loss: 0.0015\n",
      "Epoch 98/100\n",
      "12/12 [==============================] - 3s 240ms/step - loss: 8.8207e-04 - val_loss: 0.0019\n",
      "Epoch 99/100\n",
      "12/12 [==============================] - 3s 236ms/step - loss: 8.6323e-04 - val_loss: 0.0014\n",
      "Epoch 100/100\n",
      "12/12 [==============================] - 3s 213ms/step - loss: 7.8992e-04 - val_loss: 0.0013\n"
     ]
    },
    {
     "data": {
      "text/plain": [
       "<keras.callbacks.History at 0x269ce1e9220>"
      ]
     },
     "execution_count": 26,
     "metadata": {},
     "output_type": "execute_result"
    }
   ],
   "source": [
    "# Fit X_train,y_train and validation_data\n",
    "model.fit(X_train,y_train,validation_data=(X_test,ytest),epochs=100,batch_size=64,verbose=1)"
   ]
  },
  {
   "cell_type": "code",
   "execution_count": 27,
   "id": "87ec1a4f",
   "metadata": {},
   "outputs": [],
   "source": [
    "import tensorflow as tf"
   ]
  },
  {
   "cell_type": "code",
   "execution_count": 28,
   "id": "01740d15",
   "metadata": {},
   "outputs": [
    {
     "name": "stdout",
     "output_type": "stream",
     "text": [
      "23/23 [==============================] - 5s 43ms/step\n",
      "11/11 [==============================] - 0s 40ms/step\n"
     ]
    }
   ],
   "source": [
    "### Lets Do the prediction and check performance metrics\n",
    "train_predict=model.predict(X_train)\n",
    "test_predict=model.predict(X_test)"
   ]
  },
  {
   "cell_type": "code",
   "execution_count": 29,
   "id": "cf535d74",
   "metadata": {},
   "outputs": [],
   "source": [
    "##Transform back to original form\n",
    "train_predict=scaler.inverse_transform(train_predict)\n",
    "test_predict=scaler.inverse_transform(test_predict)\n"
   ]
  },
  {
   "cell_type": "code",
   "execution_count": 30,
   "id": "a2a17c2a",
   "metadata": {},
   "outputs": [
    {
     "data": {
      "text/plain": [
       "53.94166829271979"
      ]
     },
     "execution_count": 30,
     "metadata": {},
     "output_type": "execute_result"
    }
   ],
   "source": [
    "### Calculate RMSE performance metrics\n",
    "import math\n",
    "from sklearn.metrics import mean_squared_error\n",
    "math.sqrt(mean_squared_error(y_train,train_predict))"
   ]
  },
  {
   "cell_type": "code",
   "execution_count": 31,
   "id": "0472a923",
   "metadata": {},
   "outputs": [
    {
     "data": {
      "text/plain": [
       "66.28508692974285"
      ]
     },
     "execution_count": 31,
     "metadata": {},
     "output_type": "execute_result"
    }
   ],
   "source": [
    "### Test Data RMSE\n",
    "math.sqrt(mean_squared_error(ytest,test_predict))"
   ]
  },
  {
   "cell_type": "code",
   "execution_count": 32,
   "id": "928ea62f",
   "metadata": {},
   "outputs": [
    {
     "data": {
      "image/png": "[encoded data removed]",
      "text/plain": [
       "<Figure size 432x288 with 1 Axes>"
      ]
     },
     "metadata": {
      "needs_background": "light"
     },
     "output_type": "display_data"
    }
   ],
   "source": [
    "### Plotting \n",
    "# shift train predictions for plotting\n",
    "look_back=100\n",
    "trainPredictPlot = np.empty_like(df1)\n",
    "trainPredictPlot[:, :] = np.nan\n",
    "trainPredictPlot[look_back:len(train_predict)+look_back, :] = train_predict\n",
    "# shift test predictions for plotting\n",
    "testPredictPlot = np.empty_like(df1)\n",
    "testPredictPlot[:, :] = np.nan\n",
    "testPredictPlot[len(train_predict)+(look_back*2)+1:len(df1)-1, :] = test_predict\n",
    "# plot baseline and predictions\n",
    "plt.plot(scaler.inverse_transform(df1))\n",
    "plt.plot(trainPredictPlot)\n",
    "plt.plot(testPredictPlot)\n",
    "plt.show()\n",
    "\n"
   ]
  },
  {
   "cell_type": "code",
   "execution_count": 33,
   "id": "424e0c6f",
   "metadata": {},
   "outputs": [
    {
     "data": {
      "text/plain": [
       "441"
      ]
     },
     "execution_count": 33,
     "metadata": {},
     "output_type": "execute_result"
    }
   ],
   "source": [
    "len(test_data)\n"
   ]
  },
  {
   "cell_type": "code",
   "execution_count": 39,
   "id": "727676bf",
   "metadata": {},
   "outputs": [
    {
     "data": {
      "text/plain": [
       "(1, 100)"
      ]
     },
     "execution_count": 39,
     "metadata": {},
     "output_type": "execute_result"
    }
   ],
   "source": [
    "# Taking last 100 days data to predict the future\n",
    "x_input = test_data[341:].reshape(1,-1)\n",
    "x_input.shape\n"
   ]
  },
  {
   "cell_type": "code",
   "execution_count": 40,
   "id": "4a5eeafe",
   "metadata": {},
   "outputs": [],
   "source": [
    "# Converting this into a list\n",
    "temp_input=list(x_input)\n",
    "temp_input=temp_input[0].tolist()\n",
    "\n"
   ]
  },
  {
   "cell_type": "code",
   "execution_count": 41,
   "id": "1f6ca290",
   "metadata": {},
   "outputs": [
    {
     "data": {
      "text/plain": [
       "[0.4515709341593058,\n",
       " 0.49061161013921517,\n",
       " 0.5004647982810039,\n",
       " 0.5387618416292649,\n",
       " 0.513292442586123,\n",
       " 0.5270496648624342,\n",
       " 0.5382041357463442,\n",
       " 0.5276073707453547,\n",
       " 0.5270496648624342,\n",
       " 0.5292805441665634,\n",
       " 0.533928248114366,\n",
       " 0.5212864933763434,\n",
       " 0.4723926292546453,\n",
       " 0.4218256660750016,\n",
       " 0.4225692429342026,\n",
       " 0.4253578838936999,\n",
       " 0.3965421380081401,\n",
       " 0.4372560060000742,\n",
       " 0.48373304547809914,\n",
       " 0.47759811344863146,\n",
       " 0.49470162679491303,\n",
       " 0.5177542569668291,\n",
       " 0.49972114705853976,\n",
       " 0.46848857652930687,\n",
       " 0.4759249214366067,\n",
       " 0.4647703947802492,\n",
       " 0.47499532487459895,\n",
       " 0.48057262538440926,\n",
       " 0.5051125022288064,\n",
       " 0.5486150111802378,\n",
       " 0.5540062919872414,\n",
       " 0.5454545353141004,\n",
       " 0.5337423027748224,\n",
       " 0.5073433815329359,\n",
       " 0.5030674939009575,\n",
       " 0.5212864933763434,\n",
       " 0.4907975740695746,\n",
       " 0.5060420244275511,\n",
       " 0.5138501298782278,\n",
       " 0.5263060136399701,\n",
       " 0.5326269095997972,\n",
       " 0.5426659687178664,\n",
       " 0.5326269095997972,\n",
       " 0.5575386027600185,\n",
       " 0.5971370589861115,\n",
       " 0.6105223905833354,\n",
       " 0.6157278747773215,\n",
       " 0.5971370589861115,\n",
       " 0.615913745753602,\n",
       " 0.6036438073314033,\n",
       " 0.610708335922879,\n",
       " 0.6155419294377779,\n",
       " 0.6155419294377779,\n",
       " 0.6564416684059925,\n",
       " 0.6514222039148131,\n",
       " 0.6731734212088972,\n",
       " 0.6655512610977642,\n",
       " 0.6503067921489721,\n",
       " 0.6441718043470569,\n",
       " 0.6443577496866005,\n",
       " 0.6151700945311379,\n",
       " 0.5980665811848561,\n",
       " 0.5993679382902409,\n",
       " 0.61145191278208,\n",
       " 0.6095928683845907,\n",
       " 0.5770589407499732,\n",
       " 0.571481714603426,\n",
       " 0.5833798181189845,\n",
       " 0.5779884629487179,\n",
       " 0.5913738689092048,\n",
       " 0.5952779402253588,\n",
       " 0.5949061053187189,\n",
       " 0.6194459821631161,\n",
       " 0.6402677516217187,\n",
       " 0.6411971994572002,\n",
       " 0.6569995044246234,\n",
       " 0.6560699078626154,\n",
       " 0.703848304446025,\n",
       " 0.687674238935225,\n",
       " 0.6499349014698849,\n",
       " 0.6713143768114075,\n",
       " 0.6584866581430254,\n",
       " 0.6298568575970095,\n",
       " 0.5792898200541027,\n",
       " 0.5393196032846327,\n",
       " 0.52946643373366,\n",
       " 0.5038111451234216,\n",
       " 0.5145937811006919,\n",
       " 0.4999070180348203,\n",
       " 0.5290945988270198,\n",
       " 0.5274214997690742,\n",
       " 0.5664621757489835,\n",
       " 0.5566090805612739,\n",
       " 0.5471277087353094,\n",
       " 0.5110615632819936,\n",
       " 0.5138501298782278,\n",
       " 0.49284256380660796,\n",
       " 0.5002788529414602,\n",
       " 0.5147797450310513,\n",
       " 0.5207287874934229]"
      ]
     },
     "execution_count": 41,
     "metadata": {},
     "output_type": "execute_result"
    }
   ],
   "source": [
    "# All data from test_data displayed for prev 100 days\n",
    "temp_input\n"
   ]
  },
  {
   "cell_type": "code",
   "execution_count": 42,
   "id": "7d0eaf11",
   "metadata": {},
   "outputs": [
    {
     "name": "stdout",
     "output_type": "stream",
     "text": [
      "[0.5031075]\n",
      "101\n",
      "1 day input [0.49061161 0.5004648  0.53876184 0.51329244 0.52704966 0.53820414\n",
      " 0.52760737 0.52704966 0.52928054 0.53392825 0.52128649 0.47239263\n",
      " 0.42182567 0.42256924 0.42535788 0.39654214 0.43725601 0.48373305\n",
      " 0.47759811 0.49470163 0.51775426 0.49972115 0.46848858 0.47592492\n",
      " 0.46477039 0.47499532 0.48057263 0.5051125  0.54861501 0.55400629\n",
      " 0.54545454 0.5337423  0.50734338 0.50306749 0.52128649 0.49079757\n",
      " 0.50604202 0.51385013 0.52630601 0.53262691 0.54266597 0.53262691\n",
      " 0.5575386  0.59713706 0.61052239 0.61572787 0.59713706 0.61591375\n",
      " 0.60364381 0.61070834 0.61554193 0.61554193 0.65644167 0.6514222\n",
      " 0.67317342 0.66555126 0.65030679 0.6441718  0.64435775 0.61517009\n",
      " 0.59806658 0.59936794 0.61145191 0.60959287 0.57705894 0.57148171\n",
      " 0.58337982 0.57798846 0.59137387 0.59527794 0.59490611 0.61944598\n",
      " 0.64026775 0.6411972  0.6569995  0.65606991 0.7038483  0.68767424\n",
      " 0.6499349  0.67131438 0.65848666 0.62985686 0.57928982 0.5393196\n",
      " 0.52946643 0.50381115 0.51459378 0.49990702 0.5290946  0.5274215\n",
      " 0.56646218 0.55660908 0.54712771 0.51106156 0.51385013 0.49284256\n",
      " 0.50027885 0.51477975 0.52072879 0.50310749]\n",
      "1 day output [[0.50324553]]\n",
      "2 day input [0.5004648  0.53876184 0.51329244 0.52704966 0.53820414 0.52760737\n",
      " 0.52704966 0.52928054 0.53392825 0.52128649 0.47239263 0.42182567\n",
      " 0.42256924 0.42535788 0.39654214 0.43725601 0.48373305 0.47759811\n",
      " 0.49470163 0.51775426 0.49972115 0.46848858 0.47592492 0.46477039\n",
      " 0.47499532 0.48057263 0.5051125  0.54861501 0.55400629 0.54545454\n",
      " 0.5337423  0.50734338 0.50306749 0.52128649 0.49079757 0.50604202\n",
      " 0.51385013 0.52630601 0.53262691 0.54266597 0.53262691 0.5575386\n",
      " 0.59713706 0.61052239 0.61572787 0.59713706 0.61591375 0.60364381\n",
      " 0.61070834 0.61554193 0.61554193 0.65644167 0.6514222  0.67317342\n",
      " 0.66555126 0.65030679 0.6441718  0.64435775 0.61517009 0.59806658\n",
      " 0.59936794 0.61145191 0.60959287 0.57705894 0.57148171 0.58337982\n",
      " 0.57798846 0.59137387 0.59527794 0.59490611 0.61944598 0.64026775\n",
      " 0.6411972  0.6569995  0.65606991 0.7038483  0.68767424 0.6499349\n",
      " 0.67131438 0.65848666 0.62985686 0.57928982 0.5393196  0.52946643\n",
      " 0.50381115 0.51459378 0.49990702 0.5290946  0.5274215  0.56646218\n",
      " 0.55660908 0.54712771 0.51106156 0.51385013 0.49284256 0.50027885\n",
      " 0.51477975 0.52072879 0.50310749 0.50324553]\n",
      "2 day output [[0.5027081]]\n",
      "3 day input [0.53876184 0.51329244 0.52704966 0.53820414 0.52760737 0.52704966\n",
      " 0.52928054 0.53392825 0.52128649 0.47239263 0.42182567 0.42256924\n",
      " 0.42535788 0.39654214 0.43725601 0.48373305 0.47759811 0.49470163\n",
      " 0.51775426 0.49972115 0.46848858 0.47592492 0.46477039 0.47499532\n",
      " 0.48057263 0.5051125  0.54861501 0.55400629 0.54545454 0.5337423\n",
      " 0.50734338 0.50306749 0.52128649 0.49079757 0.50604202 0.51385013\n",
      " 0.52630601 0.53262691 0.54266597 0.53262691 0.5575386  0.59713706\n",
      " 0.61052239 0.61572787 0.59713706 0.61591375 0.60364381 0.61070834\n",
      " 0.61554193 0.61554193 0.65644167 0.6514222  0.67317342 0.66555126\n",
      " 0.65030679 0.6441718  0.64435775 0.61517009 0.59806658 0.59936794\n",
      " 0.61145191 0.60959287 0.57705894 0.57148171 0.58337982 0.57798846\n",
      " 0.59137387 0.59527794 0.59490611 0.61944598 0.64026775 0.6411972\n",
      " 0.6569995  0.65606991 0.7038483  0.68767424 0.6499349  0.67131438\n",
      " 0.65848666 0.62985686 0.57928982 0.5393196  0.52946643 0.50381115\n",
      " 0.51459378 0.49990702 0.5290946  0.5274215  0.56646218 0.55660908\n",
      " 0.54712771 0.51106156 0.51385013 0.49284256 0.50027885 0.51477975\n",
      " 0.52072879 0.50310749 0.50324553 0.50270808]\n",
      "3 day output [[0.50168914]]\n",
      "4 day input [0.51329244 0.52704966 0.53820414 0.52760737 0.52704966 0.52928054\n",
      " 0.53392825 0.52128649 0.47239263 0.42182567 0.42256924 0.42535788\n",
      " 0.39654214 0.43725601 0.48373305 0.47759811 0.49470163 0.51775426\n",
      " 0.49972115 0.46848858 0.47592492 0.46477039 0.47499532 0.48057263\n",
      " 0.5051125  0.54861501 0.55400629 0.54545454 0.5337423  0.50734338\n",
      " 0.50306749 0.52128649 0.49079757 0.50604202 0.51385013 0.52630601\n",
      " 0.53262691 0.54266597 0.53262691 0.5575386  0.59713706 0.61052239\n",
      " 0.61572787 0.59713706 0.61591375 0.60364381 0.61070834 0.61554193\n",
      " 0.61554193 0.65644167 0.6514222  0.67317342 0.66555126 0.65030679\n",
      " 0.6441718  0.64435775 0.61517009 0.59806658 0.59936794 0.61145191\n",
      " 0.60959287 0.57705894 0.57148171 0.58337982 0.57798846 0.59137387\n",
      " 0.59527794 0.59490611 0.61944598 0.64026775 0.6411972  0.6569995\n",
      " 0.65606991 0.7038483  0.68767424 0.6499349  0.67131438 0.65848666\n",
      " 0.62985686 0.57928982 0.5393196  0.52946643 0.50381115 0.51459378\n",
      " 0.49990702 0.5290946  0.5274215  0.56646218 0.55660908 0.54712771\n",
      " 0.51106156 0.51385013 0.49284256 0.50027885 0.51477975 0.52072879\n",
      " 0.50310749 0.50324553 0.50270808 0.50168914]\n",
      "4 day output [[0.5004117]]\n",
      "5 day input [0.52704966 0.53820414 0.52760737 0.52704966 0.52928054 0.53392825\n",
      " 0.52128649 0.47239263 0.42182567 0.42256924 0.42535788 0.39654214\n",
      " 0.43725601 0.48373305 0.47759811 0.49470163 0.51775426 0.49972115\n",
      " 0.46848858 0.47592492 0.46477039 0.47499532 0.48057263 0.5051125\n",
      " 0.54861501 0.55400629 0.54545454 0.5337423  0.50734338 0.50306749\n",
      " 0.52128649 0.49079757 0.50604202 0.51385013 0.52630601 0.53262691\n",
      " 0.54266597 0.53262691 0.5575386  0.59713706 0.61052239 0.61572787\n",
      " 0.59713706 0.61591375 0.60364381 0.61070834 0.61554193 0.61554193\n",
      " 0.65644167 0.6514222  0.67317342 0.66555126 0.65030679 0.6441718\n",
      " 0.64435775 0.61517009 0.59806658 0.59936794 0.61145191 0.60959287\n",
      " 0.57705894 0.57148171 0.58337982 0.57798846 0.59137387 0.59527794\n",
      " 0.59490611 0.61944598 0.64026775 0.6411972  0.6569995  0.65606991\n",
      " 0.7038483  0.68767424 0.6499349  0.67131438 0.65848666 0.62985686\n",
      " 0.57928982 0.5393196  0.52946643 0.50381115 0.51459378 0.49990702\n",
      " 0.5290946  0.5274215  0.56646218 0.55660908 0.54712771 0.51106156\n",
      " 0.51385013 0.49284256 0.50027885 0.51477975 0.52072879 0.50310749\n",
      " 0.50324553 0.50270808 0.50168914 0.50041169]\n",
      "5 day output [[0.49900496]]\n",
      "6 day input [0.53820414 0.52760737 0.52704966 0.52928054 0.53392825 0.52128649\n",
      " 0.47239263 0.42182567 0.42256924 0.42535788 0.39654214 0.43725601\n",
      " 0.48373305 0.47759811 0.49470163 0.51775426 0.49972115 0.46848858\n",
      " 0.47592492 0.46477039 0.47499532 0.48057263 0.5051125  0.54861501\n",
      " 0.55400629 0.54545454 0.5337423  0.50734338 0.50306749 0.52128649\n",
      " 0.49079757 0.50604202 0.51385013 0.52630601 0.53262691 0.54266597\n",
      " 0.53262691 0.5575386  0.59713706 0.61052239 0.61572787 0.59713706\n",
      " 0.61591375 0.60364381 0.61070834 0.61554193 0.61554193 0.65644167\n",
      " 0.6514222  0.67317342 0.66555126 0.65030679 0.6441718  0.64435775\n",
      " 0.61517009 0.59806658 0.59936794 0.61145191 0.60959287 0.57705894\n",
      " 0.57148171 0.58337982 0.57798846 0.59137387 0.59527794 0.59490611\n",
      " 0.61944598 0.64026775 0.6411972  0.6569995  0.65606991 0.7038483\n",
      " 0.68767424 0.6499349  0.67131438 0.65848666 0.62985686 0.57928982\n",
      " 0.5393196  0.52946643 0.50381115 0.51459378 0.49990702 0.5290946\n",
      " 0.5274215  0.56646218 0.55660908 0.54712771 0.51106156 0.51385013\n",
      " 0.49284256 0.50027885 0.51477975 0.52072879 0.50310749 0.50324553\n",
      " 0.50270808 0.50168914 0.50041169 0.49900496]\n",
      "6 day output [[0.49752653]]\n",
      "7 day input [0.52760737 0.52704966 0.52928054 0.53392825 0.52128649 0.47239263\n",
      " 0.42182567 0.42256924 0.42535788 0.39654214 0.43725601 0.48373305\n",
      " 0.47759811 0.49470163 0.51775426 0.49972115 0.46848858 0.47592492\n",
      " 0.46477039 0.47499532 0.48057263 0.5051125  0.54861501 0.55400629\n",
      " 0.54545454 0.5337423  0.50734338 0.50306749 0.52128649 0.49079757\n",
      " 0.50604202 0.51385013 0.52630601 0.53262691 0.54266597 0.53262691\n",
      " 0.5575386  0.59713706 0.61052239 0.61572787 0.59713706 0.61591375\n",
      " 0.60364381 0.61070834 0.61554193 0.61554193 0.65644167 0.6514222\n",
      " 0.67317342 0.66555126 0.65030679 0.6441718  0.64435775 0.61517009\n",
      " 0.59806658 0.59936794 0.61145191 0.60959287 0.57705894 0.57148171\n",
      " 0.58337982 0.57798846 0.59137387 0.59527794 0.59490611 0.61944598\n",
      " 0.64026775 0.6411972  0.6569995  0.65606991 0.7038483  0.68767424\n",
      " 0.6499349  0.67131438 0.65848666 0.62985686 0.57928982 0.5393196\n",
      " 0.52946643 0.50381115 0.51459378 0.49990702 0.5290946  0.5274215\n",
      " 0.56646218 0.55660908 0.54712771 0.51106156 0.51385013 0.49284256\n",
      " 0.50027885 0.51477975 0.52072879 0.50310749 0.50324553 0.50270808\n",
      " 0.50168914 0.50041169 0.49900496 0.49752653]\n",
      "7 day output [[0.4960006]]\n",
      "8 day input [0.52704966 0.52928054 0.53392825 0.52128649 0.47239263 0.42182567\n",
      " 0.42256924 0.42535788 0.39654214 0.43725601 0.48373305 0.47759811\n",
      " 0.49470163 0.51775426 0.49972115 0.46848858 0.47592492 0.46477039\n",
      " 0.47499532 0.48057263 0.5051125  0.54861501 0.55400629 0.54545454\n",
      " 0.5337423  0.50734338 0.50306749 0.52128649 0.49079757 0.50604202\n",
      " 0.51385013 0.52630601 0.53262691 0.54266597 0.53262691 0.5575386\n",
      " 0.59713706 0.61052239 0.61572787 0.59713706 0.61591375 0.60364381\n",
      " 0.61070834 0.61554193 0.61554193 0.65644167 0.6514222  0.67317342\n",
      " 0.66555126 0.65030679 0.6441718  0.64435775 0.61517009 0.59806658\n",
      " 0.59936794 0.61145191 0.60959287 0.57705894 0.57148171 0.58337982\n",
      " 0.57798846 0.59137387 0.59527794 0.59490611 0.61944598 0.64026775\n",
      " 0.6411972  0.6569995  0.65606991 0.7038483  0.68767424 0.6499349\n",
      " 0.67131438 0.65848666 0.62985686 0.57928982 0.5393196  0.52946643\n",
      " 0.50381115 0.51459378 0.49990702 0.5290946  0.5274215  0.56646218\n",
      " 0.55660908 0.54712771 0.51106156 0.51385013 0.49284256 0.50027885\n",
      " 0.51477975 0.52072879 0.50310749 0.50324553 0.50270808 0.50168914\n",
      " 0.50041169 0.49900496 0.49752653 0.49600059]\n",
      "8 day output [[0.4944414]]\n",
      "9 day input [0.52928054 0.53392825 0.52128649 0.47239263 0.42182567 0.42256924\n",
      " 0.42535788 0.39654214 0.43725601 0.48373305 0.47759811 0.49470163\n",
      " 0.51775426 0.49972115 0.46848858 0.47592492 0.46477039 0.47499532\n",
      " 0.48057263 0.5051125  0.54861501 0.55400629 0.54545454 0.5337423\n",
      " 0.50734338 0.50306749 0.52128649 0.49079757 0.50604202 0.51385013\n",
      " 0.52630601 0.53262691 0.54266597 0.53262691 0.5575386  0.59713706\n",
      " 0.61052239 0.61572787 0.59713706 0.61591375 0.60364381 0.61070834\n",
      " 0.61554193 0.61554193 0.65644167 0.6514222  0.67317342 0.66555126\n",
      " 0.65030679 0.6441718  0.64435775 0.61517009 0.59806658 0.59936794\n",
      " 0.61145191 0.60959287 0.57705894 0.57148171 0.58337982 0.57798846\n",
      " 0.59137387 0.59527794 0.59490611 0.61944598 0.64026775 0.6411972\n",
      " 0.6569995  0.65606991 0.7038483  0.68767424 0.6499349  0.67131438\n",
      " 0.65848666 0.62985686 0.57928982 0.5393196  0.52946643 0.50381115\n",
      " 0.51459378 0.49990702 0.5290946  0.5274215  0.56646218 0.55660908\n",
      " 0.54712771 0.51106156 0.51385013 0.49284256 0.50027885 0.51477975\n",
      " 0.52072879 0.50310749 0.50324553 0.50270808 0.50168914 0.50041169\n",
      " 0.49900496 0.49752653 0.49600059 0.49444139]\n",
      "9 day output [[0.492863]]\n",
      "10 day input [0.53392825 0.52128649 0.47239263 0.42182567 0.42256924 0.42535788\n",
      " 0.39654214 0.43725601 0.48373305 0.47759811 0.49470163 0.51775426\n",
      " 0.49972115 0.46848858 0.47592492 0.46477039 0.47499532 0.48057263\n",
      " 0.5051125  0.54861501 0.55400629 0.54545454 0.5337423  0.50734338\n",
      " 0.50306749 0.52128649 0.49079757 0.50604202 0.51385013 0.52630601\n",
      " 0.53262691 0.54266597 0.53262691 0.5575386  0.59713706 0.61052239\n",
      " 0.61572787 0.59713706 0.61591375 0.60364381 0.61070834 0.61554193\n",
      " 0.61554193 0.65644167 0.6514222  0.67317342 0.66555126 0.65030679\n",
      " 0.6441718  0.64435775 0.61517009 0.59806658 0.59936794 0.61145191\n",
      " 0.60959287 0.57705894 0.57148171 0.58337982 0.57798846 0.59137387\n",
      " 0.59527794 0.59490611 0.61944598 0.64026775 0.6411972  0.6569995\n",
      " 0.65606991 0.7038483  0.68767424 0.6499349  0.67131438 0.65848666\n",
      " 0.62985686 0.57928982 0.5393196  0.52946643 0.50381115 0.51459378\n",
      " 0.49990702 0.5290946  0.5274215  0.56646218 0.55660908 0.54712771\n",
      " 0.51106156 0.51385013 0.49284256 0.50027885 0.51477975 0.52072879\n",
      " 0.50310749 0.50324553 0.50270808 0.50168914 0.50041169 0.49900496\n",
      " 0.49752653 0.49600059 0.49444139 0.492863  ]\n",
      "10 day output [[0.4912824]]\n",
      "11 day input [0.52128649 0.47239263 0.42182567 0.42256924 0.42535788 0.39654214\n",
      " 0.43725601 0.48373305 0.47759811 0.49470163 0.51775426 0.49972115\n",
      " 0.46848858 0.47592492 0.46477039 0.47499532 0.48057263 0.5051125\n",
      " 0.54861501 0.55400629 0.54545454 0.5337423  0.50734338 0.50306749\n",
      " 0.52128649 0.49079757 0.50604202 0.51385013 0.52630601 0.53262691\n",
      " 0.54266597 0.53262691 0.5575386  0.59713706 0.61052239 0.61572787\n",
      " 0.59713706 0.61591375 0.60364381 0.61070834 0.61554193 0.61554193\n",
      " 0.65644167 0.6514222  0.67317342 0.66555126 0.65030679 0.6441718\n",
      " 0.64435775 0.61517009 0.59806658 0.59936794 0.61145191 0.60959287\n",
      " 0.57705894 0.57148171 0.58337982 0.57798846 0.59137387 0.59527794\n",
      " 0.59490611 0.61944598 0.64026775 0.6411972  0.6569995  0.65606991\n",
      " 0.7038483  0.68767424 0.6499349  0.67131438 0.65848666 0.62985686\n",
      " 0.57928982 0.5393196  0.52946643 0.50381115 0.51459378 0.49990702\n",
      " 0.5290946  0.5274215  0.56646218 0.55660908 0.54712771 0.51106156\n",
      " 0.51385013 0.49284256 0.50027885 0.51477975 0.52072879 0.50310749\n",
      " 0.50324553 0.50270808 0.50168914 0.50041169 0.49900496 0.49752653\n",
      " 0.49600059 0.49444139 0.492863   0.4912824 ]\n",
      "11 day output [[0.4897185]]\n",
      "12 day input [0.47239263 0.42182567 0.42256924 0.42535788 0.39654214 0.43725601\n",
      " 0.48373305 0.47759811 0.49470163 0.51775426 0.49972115 0.46848858\n",
      " 0.47592492 0.46477039 0.47499532 0.48057263 0.5051125  0.54861501\n",
      " 0.55400629 0.54545454 0.5337423  0.50734338 0.50306749 0.52128649\n",
      " 0.49079757 0.50604202 0.51385013 0.52630601 0.53262691 0.54266597\n",
      " 0.53262691 0.5575386  0.59713706 0.61052239 0.61572787 0.59713706\n",
      " 0.61591375 0.60364381 0.61070834 0.61554193 0.61554193 0.65644167\n",
      " 0.6514222  0.67317342 0.66555126 0.65030679 0.6441718  0.64435775\n",
      " 0.61517009 0.59806658 0.59936794 0.61145191 0.60959287 0.57705894\n",
      " 0.57148171 0.58337982 0.57798846 0.59137387 0.59527794 0.59490611\n",
      " 0.61944598 0.64026775 0.6411972  0.6569995  0.65606991 0.7038483\n",
      " 0.68767424 0.6499349  0.67131438 0.65848666 0.62985686 0.57928982\n",
      " 0.5393196  0.52946643 0.50381115 0.51459378 0.49990702 0.5290946\n",
      " 0.5274215  0.56646218 0.55660908 0.54712771 0.51106156 0.51385013\n",
      " 0.49284256 0.50027885 0.51477975 0.52072879 0.50310749 0.50324553\n",
      " 0.50270808 0.50168914 0.50041169 0.49900496 0.49752653 0.49600059\n",
      " 0.49444139 0.492863   0.4912824  0.4897185 ]\n",
      "12 day output [[0.48819035]]\n",
      "13 day input [0.42182567 0.42256924 0.42535788 0.39654214 0.43725601 0.48373305\n",
      " 0.47759811 0.49470163 0.51775426 0.49972115 0.46848858 0.47592492\n",
      " 0.46477039 0.47499532 0.48057263 0.5051125  0.54861501 0.55400629\n",
      " 0.54545454 0.5337423  0.50734338 0.50306749 0.52128649 0.49079757\n",
      " 0.50604202 0.51385013 0.52630601 0.53262691 0.54266597 0.53262691\n",
      " 0.5575386  0.59713706 0.61052239 0.61572787 0.59713706 0.61591375\n",
      " 0.60364381 0.61070834 0.61554193 0.61554193 0.65644167 0.6514222\n",
      " 0.67317342 0.66555126 0.65030679 0.6441718  0.64435775 0.61517009\n",
      " 0.59806658 0.59936794 0.61145191 0.60959287 0.57705894 0.57148171\n",
      " 0.58337982 0.57798846 0.59137387 0.59527794 0.59490611 0.61944598\n",
      " 0.64026775 0.6411972  0.6569995  0.65606991 0.7038483  0.68767424\n",
      " 0.6499349  0.67131438 0.65848666 0.62985686 0.57928982 0.5393196\n",
      " 0.52946643 0.50381115 0.51459378 0.49990702 0.5290946  0.5274215\n",
      " 0.56646218 0.55660908 0.54712771 0.51106156 0.51385013 0.49284256\n",
      " 0.50027885 0.51477975 0.52072879 0.50310749 0.50324553 0.50270808\n",
      " 0.50168914 0.50041169 0.49900496 0.49752653 0.49600059 0.49444139\n",
      " 0.492863   0.4912824  0.4897185  0.48819035]\n",
      "13 day output [[0.486717]]\n",
      "14 day input [0.42256924 0.42535788 0.39654214 0.43725601 0.48373305 0.47759811\n",
      " 0.49470163 0.51775426 0.49972115 0.46848858 0.47592492 0.46477039\n",
      " 0.47499532 0.48057263 0.5051125  0.54861501 0.55400629 0.54545454\n",
      " 0.5337423  0.50734338 0.50306749 0.52128649 0.49079757 0.50604202\n",
      " 0.51385013 0.52630601 0.53262691 0.54266597 0.53262691 0.5575386\n",
      " 0.59713706 0.61052239 0.61572787 0.59713706 0.61591375 0.60364381\n",
      " 0.61070834 0.61554193 0.61554193 0.65644167 0.6514222  0.67317342\n",
      " 0.66555126 0.65030679 0.6441718  0.64435775 0.61517009 0.59806658\n",
      " 0.59936794 0.61145191 0.60959287 0.57705894 0.57148171 0.58337982\n",
      " 0.57798846 0.59137387 0.59527794 0.59490611 0.61944598 0.64026775\n",
      " 0.6411972  0.6569995  0.65606991 0.7038483  0.68767424 0.6499349\n",
      " 0.67131438 0.65848666 0.62985686 0.57928982 0.5393196  0.52946643\n",
      " 0.50381115 0.51459378 0.49990702 0.5290946  0.5274215  0.56646218\n",
      " 0.55660908 0.54712771 0.51106156 0.51385013 0.49284256 0.50027885\n",
      " 0.51477975 0.52072879 0.50310749 0.50324553 0.50270808 0.50168914\n",
      " 0.50041169 0.49900496 0.49752653 0.49600059 0.49444139 0.492863\n",
      " 0.4912824  0.4897185  0.48819035 0.48671699]\n",
      "14 day output [[0.48531497]]\n",
      "15 day input [0.42535788 0.39654214 0.43725601 0.48373305 0.47759811 0.49470163\n",
      " 0.51775426 0.49972115 0.46848858 0.47592492 0.46477039 0.47499532\n",
      " 0.48057263 0.5051125  0.54861501 0.55400629 0.54545454 0.5337423\n",
      " 0.50734338 0.50306749 0.52128649 0.49079757 0.50604202 0.51385013\n",
      " 0.52630601 0.53262691 0.54266597 0.53262691 0.5575386  0.59713706\n",
      " 0.61052239 0.61572787 0.59713706 0.61591375 0.60364381 0.61070834\n",
      " 0.61554193 0.61554193 0.65644167 0.6514222  0.67317342 0.66555126\n",
      " 0.65030679 0.6441718  0.64435775 0.61517009 0.59806658 0.59936794\n",
      " 0.61145191 0.60959287 0.57705894 0.57148171 0.58337982 0.57798846\n",
      " 0.59137387 0.59527794 0.59490611 0.61944598 0.64026775 0.6411972\n",
      " 0.6569995  0.65606991 0.7038483  0.68767424 0.6499349  0.67131438\n",
      " 0.65848666 0.62985686 0.57928982 0.5393196  0.52946643 0.50381115\n",
      " 0.51459378 0.49990702 0.5290946  0.5274215  0.56646218 0.55660908\n",
      " 0.54712771 0.51106156 0.51385013 0.49284256 0.50027885 0.51477975\n",
      " 0.52072879 0.50310749 0.50324553 0.50270808 0.50168914 0.50041169\n",
      " 0.49900496 0.49752653 0.49600059 0.49444139 0.492863   0.4912824\n",
      " 0.4897185  0.48819035 0.48671699 0.48531497]\n",
      "15 day output [[0.48399878]]\n",
      "16 day input [0.39654214 0.43725601 0.48373305 0.47759811 0.49470163 0.51775426\n",
      " 0.49972115 0.46848858 0.47592492 0.46477039 0.47499532 0.48057263\n",
      " 0.5051125  0.54861501 0.55400629 0.54545454 0.5337423  0.50734338\n",
      " 0.50306749 0.52128649 0.49079757 0.50604202 0.51385013 0.52630601\n",
      " 0.53262691 0.54266597 0.53262691 0.5575386  0.59713706 0.61052239\n",
      " 0.61572787 0.59713706 0.61591375 0.60364381 0.61070834 0.61554193\n",
      " 0.61554193 0.65644167 0.6514222  0.67317342 0.66555126 0.65030679\n",
      " 0.6441718  0.64435775 0.61517009 0.59806658 0.59936794 0.61145191\n",
      " 0.60959287 0.57705894 0.57148171 0.58337982 0.57798846 0.59137387\n",
      " 0.59527794 0.59490611 0.61944598 0.64026775 0.6411972  0.6569995\n",
      " 0.65606991 0.7038483  0.68767424 0.6499349  0.67131438 0.65848666\n",
      " 0.62985686 0.57928982 0.5393196  0.52946643 0.50381115 0.51459378\n",
      " 0.49990702 0.5290946  0.5274215  0.56646218 0.55660908 0.54712771\n",
      " 0.51106156 0.51385013 0.49284256 0.50027885 0.51477975 0.52072879\n",
      " 0.50310749 0.50324553 0.50270808 0.50168914 0.50041169 0.49900496\n",
      " 0.49752653 0.49600059 0.49444139 0.492863   0.4912824  0.4897185\n",
      " 0.48819035 0.48671699 0.48531497 0.48399878]\n",
      "16 day output [[0.48278022]]\n",
      "17 day input [0.43725601 0.48373305 0.47759811 0.49470163 0.51775426 0.49972115\n",
      " 0.46848858 0.47592492 0.46477039 0.47499532 0.48057263 0.5051125\n",
      " 0.54861501 0.55400629 0.54545454 0.5337423  0.50734338 0.50306749\n",
      " 0.52128649 0.49079757 0.50604202 0.51385013 0.52630601 0.53262691\n",
      " 0.54266597 0.53262691 0.5575386  0.59713706 0.61052239 0.61572787\n",
      " 0.59713706 0.61591375 0.60364381 0.61070834 0.61554193 0.61554193\n",
      " 0.65644167 0.6514222  0.67317342 0.66555126 0.65030679 0.6441718\n",
      " 0.64435775 0.61517009 0.59806658 0.59936794 0.61145191 0.60959287\n",
      " 0.57705894 0.57148171 0.58337982 0.57798846 0.59137387 0.59527794\n",
      " 0.59490611 0.61944598 0.64026775 0.6411972  0.6569995  0.65606991\n",
      " 0.7038483  0.68767424 0.6499349  0.67131438 0.65848666 0.62985686\n",
      " 0.57928982 0.5393196  0.52946643 0.50381115 0.51459378 0.49990702\n",
      " 0.5290946  0.5274215  0.56646218 0.55660908 0.54712771 0.51106156\n",
      " 0.51385013 0.49284256 0.50027885 0.51477975 0.52072879 0.50310749\n",
      " 0.50324553 0.50270808 0.50168914 0.50041169 0.49900496 0.49752653\n",
      " 0.49600059 0.49444139 0.492863   0.4912824  0.4897185  0.48819035\n",
      " 0.48671699 0.48531497 0.48399878 0.48278022]\n",
      "17 day output [[0.48166823]]\n",
      "18 day input [0.48373305 0.47759811 0.49470163 0.51775426 0.49972115 0.46848858\n",
      " 0.47592492 0.46477039 0.47499532 0.48057263 0.5051125  0.54861501\n",
      " 0.55400629 0.54545454 0.5337423  0.50734338 0.50306749 0.52128649\n",
      " 0.49079757 0.50604202 0.51385013 0.52630601 0.53262691 0.54266597\n",
      " 0.53262691 0.5575386  0.59713706 0.61052239 0.61572787 0.59713706\n",
      " 0.61591375 0.60364381 0.61070834 0.61554193 0.61554193 0.65644167\n",
      " 0.6514222  0.67317342 0.66555126 0.65030679 0.6441718  0.64435775\n",
      " 0.61517009 0.59806658 0.59936794 0.61145191 0.60959287 0.57705894\n",
      " 0.57148171 0.58337982 0.57798846 0.59137387 0.59527794 0.59490611\n",
      " 0.61944598 0.64026775 0.6411972  0.6569995  0.65606991 0.7038483\n",
      " 0.68767424 0.6499349  0.67131438 0.65848666 0.62985686 0.57928982\n",
      " 0.5393196  0.52946643 0.50381115 0.51459378 0.49990702 0.5290946\n",
      " 0.5274215  0.56646218 0.55660908 0.54712771 0.51106156 0.51385013\n",
      " 0.49284256 0.50027885 0.51477975 0.52072879 0.50310749 0.50324553\n",
      " 0.50270808 0.50168914 0.50041169 0.49900496 0.49752653 0.49600059\n",
      " 0.49444139 0.492863   0.4912824  0.4897185  0.48819035 0.48671699\n",
      " 0.48531497 0.48399878 0.48278022 0.48166823]\n",
      "18 day output [[0.48066944]]\n",
      "19 day input [0.47759811 0.49470163 0.51775426 0.49972115 0.46848858 0.47592492\n",
      " 0.46477039 0.47499532 0.48057263 0.5051125  0.54861501 0.55400629\n",
      " 0.54545454 0.5337423  0.50734338 0.50306749 0.52128649 0.49079757\n",
      " 0.50604202 0.51385013 0.52630601 0.53262691 0.54266597 0.53262691\n",
      " 0.5575386  0.59713706 0.61052239 0.61572787 0.59713706 0.61591375\n",
      " 0.60364381 0.61070834 0.61554193 0.61554193 0.65644167 0.6514222\n",
      " 0.67317342 0.66555126 0.65030679 0.6441718  0.64435775 0.61517009\n",
      " 0.59806658 0.59936794 0.61145191 0.60959287 0.57705894 0.57148171\n",
      " 0.58337982 0.57798846 0.59137387 0.59527794 0.59490611 0.61944598\n",
      " 0.64026775 0.6411972  0.6569995  0.65606991 0.7038483  0.68767424\n",
      " 0.6499349  0.67131438 0.65848666 0.62985686 0.57928982 0.5393196\n",
      " 0.52946643 0.50381115 0.51459378 0.49990702 0.5290946  0.5274215\n",
      " 0.56646218 0.55660908 0.54712771 0.51106156 0.51385013 0.49284256\n",
      " 0.50027885 0.51477975 0.52072879 0.50310749 0.50324553 0.50270808\n",
      " 0.50168914 0.50041169 0.49900496 0.49752653 0.49600059 0.49444139\n",
      " 0.492863   0.4912824  0.4897185  0.48819035 0.48671699 0.48531497\n",
      " 0.48399878 0.48278022 0.48166823 0.48066944]\n",
      "19 day output [[0.479788]]\n",
      "20 day input [0.49470163 0.51775426 0.49972115 0.46848858 0.47592492 0.46477039\n",
      " 0.47499532 0.48057263 0.5051125  0.54861501 0.55400629 0.54545454\n",
      " 0.5337423  0.50734338 0.50306749 0.52128649 0.49079757 0.50604202\n",
      " 0.51385013 0.52630601 0.53262691 0.54266597 0.53262691 0.5575386\n",
      " 0.59713706 0.61052239 0.61572787 0.59713706 0.61591375 0.60364381\n",
      " 0.61070834 0.61554193 0.61554193 0.65644167 0.6514222  0.67317342\n",
      " 0.66555126 0.65030679 0.6441718  0.64435775 0.61517009 0.59806658\n",
      " 0.59936794 0.61145191 0.60959287 0.57705894 0.57148171 0.58337982\n",
      " 0.57798846 0.59137387 0.59527794 0.59490611 0.61944598 0.64026775\n",
      " 0.6411972  0.6569995  0.65606991 0.7038483  0.68767424 0.6499349\n",
      " 0.67131438 0.65848666 0.62985686 0.57928982 0.5393196  0.52946643\n",
      " 0.50381115 0.51459378 0.49990702 0.5290946  0.5274215  0.56646218\n",
      " 0.55660908 0.54712771 0.51106156 0.51385013 0.49284256 0.50027885\n",
      " 0.51477975 0.52072879 0.50310749 0.50324553 0.50270808 0.50168914\n",
      " 0.50041169 0.49900496 0.49752653 0.49600059 0.49444139 0.492863\n",
      " 0.4912824  0.4897185  0.48819035 0.48671699 0.48531497 0.48399878\n",
      " 0.48278022 0.48166823 0.48066944 0.47978801]\n",
      "20 day output [[0.47902572]]\n",
      "21 day input [0.51775426 0.49972115 0.46848858 0.47592492 0.46477039 0.47499532\n",
      " 0.48057263 0.5051125  0.54861501 0.55400629 0.54545454 0.5337423\n",
      " 0.50734338 0.50306749 0.52128649 0.49079757 0.50604202 0.51385013\n",
      " 0.52630601 0.53262691 0.54266597 0.53262691 0.5575386  0.59713706\n",
      " 0.61052239 0.61572787 0.59713706 0.61591375 0.60364381 0.61070834\n",
      " 0.61554193 0.61554193 0.65644167 0.6514222  0.67317342 0.66555126\n",
      " 0.65030679 0.6441718  0.64435775 0.61517009 0.59806658 0.59936794\n",
      " 0.61145191 0.60959287 0.57705894 0.57148171 0.58337982 0.57798846\n",
      " 0.59137387 0.59527794 0.59490611 0.61944598 0.64026775 0.6411972\n",
      " 0.6569995  0.65606991 0.7038483  0.68767424 0.6499349  0.67131438\n",
      " 0.65848666 0.62985686 0.57928982 0.5393196  0.52946643 0.50381115\n",
      " 0.51459378 0.49990702 0.5290946  0.5274215  0.56646218 0.55660908\n",
      " 0.54712771 0.51106156 0.51385013 0.49284256 0.50027885 0.51477975\n",
      " 0.52072879 0.50310749 0.50324553 0.50270808 0.50168914 0.50041169\n",
      " 0.49900496 0.49752653 0.49600059 0.49444139 0.492863   0.4912824\n",
      " 0.4897185  0.48819035 0.48671699 0.48531497 0.48399878 0.48278022\n",
      " 0.48166823 0.48066944 0.47978801 0.47902572]\n",
      "21 day output [[0.47838372]]\n",
      "22 day input [0.49972115 0.46848858 0.47592492 0.46477039 0.47499532 0.48057263\n",
      " 0.5051125  0.54861501 0.55400629 0.54545454 0.5337423  0.50734338\n",
      " 0.50306749 0.52128649 0.49079757 0.50604202 0.51385013 0.52630601\n",
      " 0.53262691 0.54266597 0.53262691 0.5575386  0.59713706 0.61052239\n",
      " 0.61572787 0.59713706 0.61591375 0.60364381 0.61070834 0.61554193\n",
      " 0.61554193 0.65644167 0.6514222  0.67317342 0.66555126 0.65030679\n",
      " 0.6441718  0.64435775 0.61517009 0.59806658 0.59936794 0.61145191\n",
      " 0.60959287 0.57705894 0.57148171 0.58337982 0.57798846 0.59137387\n",
      " 0.59527794 0.59490611 0.61944598 0.64026775 0.6411972  0.6569995\n",
      " 0.65606991 0.7038483  0.68767424 0.6499349  0.67131438 0.65848666\n",
      " 0.62985686 0.57928982 0.5393196  0.52946643 0.50381115 0.51459378\n",
      " 0.49990702 0.5290946  0.5274215  0.56646218 0.55660908 0.54712771\n",
      " 0.51106156 0.51385013 0.49284256 0.50027885 0.51477975 0.52072879\n",
      " 0.50310749 0.50324553 0.50270808 0.50168914 0.50041169 0.49900496\n",
      " 0.49752653 0.49600059 0.49444139 0.492863   0.4912824  0.4897185\n",
      " 0.48819035 0.48671699 0.48531497 0.48399878 0.48278022 0.48166823\n",
      " 0.48066944 0.47978801 0.47902572 0.47838372]\n",
      "22 day output [[0.47786117]]\n",
      "23 day input [0.46848858 0.47592492 0.46477039 0.47499532 0.48057263 0.5051125\n",
      " 0.54861501 0.55400629 0.54545454 0.5337423  0.50734338 0.50306749\n",
      " 0.52128649 0.49079757 0.50604202 0.51385013 0.52630601 0.53262691\n",
      " 0.54266597 0.53262691 0.5575386  0.59713706 0.61052239 0.61572787\n",
      " 0.59713706 0.61591375 0.60364381 0.61070834 0.61554193 0.61554193\n",
      " 0.65644167 0.6514222  0.67317342 0.66555126 0.65030679 0.6441718\n",
      " 0.64435775 0.61517009 0.59806658 0.59936794 0.61145191 0.60959287\n",
      " 0.57705894 0.57148171 0.58337982 0.57798846 0.59137387 0.59527794\n",
      " 0.59490611 0.61944598 0.64026775 0.6411972  0.6569995  0.65606991\n",
      " 0.7038483  0.68767424 0.6499349  0.67131438 0.65848666 0.62985686\n",
      " 0.57928982 0.5393196  0.52946643 0.50381115 0.51459378 0.49990702\n",
      " 0.5290946  0.5274215  0.56646218 0.55660908 0.54712771 0.51106156\n",
      " 0.51385013 0.49284256 0.50027885 0.51477975 0.52072879 0.50310749\n",
      " 0.50324553 0.50270808 0.50168914 0.50041169 0.49900496 0.49752653\n",
      " 0.49600059 0.49444139 0.492863   0.4912824  0.4897185  0.48819035\n",
      " 0.48671699 0.48531497 0.48399878 0.48278022 0.48166823 0.48066944\n",
      " 0.47978801 0.47902572 0.47838372 0.47786117]\n",
      "23 day output [[0.477457]]\n",
      "24 day input [0.47592492 0.46477039 0.47499532 0.48057263 0.5051125  0.54861501\n",
      " 0.55400629 0.54545454 0.5337423  0.50734338 0.50306749 0.52128649\n",
      " 0.49079757 0.50604202 0.51385013 0.52630601 0.53262691 0.54266597\n",
      " 0.53262691 0.5575386  0.59713706 0.61052239 0.61572787 0.59713706\n",
      " 0.61591375 0.60364381 0.61070834 0.61554193 0.61554193 0.65644167\n",
      " 0.6514222  0.67317342 0.66555126 0.65030679 0.6441718  0.64435775\n",
      " 0.61517009 0.59806658 0.59936794 0.61145191 0.60959287 0.57705894\n",
      " 0.57148171 0.58337982 0.57798846 0.59137387 0.59527794 0.59490611\n",
      " 0.61944598 0.64026775 0.6411972  0.6569995  0.65606991 0.7038483\n",
      " 0.68767424 0.6499349  0.67131438 0.65848666 0.62985686 0.57928982\n",
      " 0.5393196  0.52946643 0.50381115 0.51459378 0.49990702 0.5290946\n",
      " 0.5274215  0.56646218 0.55660908 0.54712771 0.51106156 0.51385013\n",
      " 0.49284256 0.50027885 0.51477975 0.52072879 0.50310749 0.50324553\n",
      " 0.50270808 0.50168914 0.50041169 0.49900496 0.49752653 0.49600059\n",
      " 0.49444139 0.492863   0.4912824  0.4897185  0.48819035 0.48671699\n",
      " 0.48531497 0.48399878 0.48278022 0.48166823 0.48066944 0.47978801\n",
      " 0.47902572 0.47838372 0.47786117 0.47745699]\n",
      "24 day output [[0.4771694]]\n",
      "25 day input [0.46477039 0.47499532 0.48057263 0.5051125  0.54861501 0.55400629\n",
      " 0.54545454 0.5337423  0.50734338 0.50306749 0.52128649 0.49079757\n",
      " 0.50604202 0.51385013 0.52630601 0.53262691 0.54266597 0.53262691\n",
      " 0.5575386  0.59713706 0.61052239 0.61572787 0.59713706 0.61591375\n",
      " 0.60364381 0.61070834 0.61554193 0.61554193 0.65644167 0.6514222\n",
      " 0.67317342 0.66555126 0.65030679 0.6441718  0.64435775 0.61517009\n",
      " 0.59806658 0.59936794 0.61145191 0.60959287 0.57705894 0.57148171\n",
      " 0.58337982 0.57798846 0.59137387 0.59527794 0.59490611 0.61944598\n",
      " 0.64026775 0.6411972  0.6569995  0.65606991 0.7038483  0.68767424\n",
      " 0.6499349  0.67131438 0.65848666 0.62985686 0.57928982 0.5393196\n",
      " 0.52946643 0.50381115 0.51459378 0.49990702 0.5290946  0.5274215\n",
      " 0.56646218 0.55660908 0.54712771 0.51106156 0.51385013 0.49284256\n",
      " 0.50027885 0.51477975 0.52072879 0.50310749 0.50324553 0.50270808\n",
      " 0.50168914 0.50041169 0.49900496 0.49752653 0.49600059 0.49444139\n",
      " 0.492863   0.4912824  0.4897185  0.48819035 0.48671699 0.48531497\n",
      " 0.48399878 0.48278022 0.48166823 0.48066944 0.47978801 0.47902572\n",
      " 0.47838372 0.47786117 0.47745699 0.47716939]\n",
      "25 day output [[0.47699684]]\n",
      "26 day input [0.47499532 0.48057263 0.5051125  0.54861501 0.55400629 0.54545454\n",
      " 0.5337423  0.50734338 0.50306749 0.52128649 0.49079757 0.50604202\n",
      " 0.51385013 0.52630601 0.53262691 0.54266597 0.53262691 0.5575386\n",
      " 0.59713706 0.61052239 0.61572787 0.59713706 0.61591375 0.60364381\n",
      " 0.61070834 0.61554193 0.61554193 0.65644167 0.6514222  0.67317342\n",
      " 0.66555126 0.65030679 0.6441718  0.64435775 0.61517009 0.59806658\n",
      " 0.59936794 0.61145191 0.60959287 0.57705894 0.57148171 0.58337982\n",
      " 0.57798846 0.59137387 0.59527794 0.59490611 0.61944598 0.64026775\n",
      " 0.6411972  0.6569995  0.65606991 0.7038483  0.68767424 0.6499349\n",
      " 0.67131438 0.65848666 0.62985686 0.57928982 0.5393196  0.52946643\n",
      " 0.50381115 0.51459378 0.49990702 0.5290946  0.5274215  0.56646218\n",
      " 0.55660908 0.54712771 0.51106156 0.51385013 0.49284256 0.50027885\n",
      " 0.51477975 0.52072879 0.50310749 0.50324553 0.50270808 0.50168914\n",
      " 0.50041169 0.49900496 0.49752653 0.49600059 0.49444139 0.492863\n",
      " 0.4912824  0.4897185  0.48819035 0.48671699 0.48531497 0.48399878\n",
      " 0.48278022 0.48166823 0.48066944 0.47978801 0.47902572 0.47838372\n",
      " 0.47786117 0.47745699 0.47716939 0.47699684]\n",
      "26 day output [[0.47693777]]\n",
      "27 day input [0.48057263 0.5051125  0.54861501 0.55400629 0.54545454 0.5337423\n",
      " 0.50734338 0.50306749 0.52128649 0.49079757 0.50604202 0.51385013\n",
      " 0.52630601 0.53262691 0.54266597 0.53262691 0.5575386  0.59713706\n",
      " 0.61052239 0.61572787 0.59713706 0.61591375 0.60364381 0.61070834\n",
      " 0.61554193 0.61554193 0.65644167 0.6514222  0.67317342 0.66555126\n",
      " 0.65030679 0.6441718  0.64435775 0.61517009 0.59806658 0.59936794\n",
      " 0.61145191 0.60959287 0.57705894 0.57148171 0.58337982 0.57798846\n",
      " 0.59137387 0.59527794 0.59490611 0.61944598 0.64026775 0.6411972\n",
      " 0.6569995  0.65606991 0.7038483  0.68767424 0.6499349  0.67131438\n",
      " 0.65848666 0.62985686 0.57928982 0.5393196  0.52946643 0.50381115\n",
      " 0.51459378 0.49990702 0.5290946  0.5274215  0.56646218 0.55660908\n",
      " 0.54712771 0.51106156 0.51385013 0.49284256 0.50027885 0.51477975\n",
      " 0.52072879 0.50310749 0.50324553 0.50270808 0.50168914 0.50041169\n",
      " 0.49900496 0.49752653 0.49600059 0.49444139 0.492863   0.4912824\n",
      " 0.4897185  0.48819035 0.48671699 0.48531497 0.48399878 0.48278022\n",
      " 0.48166823 0.48066944 0.47978801 0.47902572 0.47838372 0.47786117\n",
      " 0.47745699 0.47716939 0.47699684 0.47693777]\n",
      "27 day output [[0.47699153]]\n",
      "28 day input [0.5051125  0.54861501 0.55400629 0.54545454 0.5337423  0.50734338\n",
      " 0.50306749 0.52128649 0.49079757 0.50604202 0.51385013 0.52630601\n",
      " 0.53262691 0.54266597 0.53262691 0.5575386  0.59713706 0.61052239\n",
      " 0.61572787 0.59713706 0.61591375 0.60364381 0.61070834 0.61554193\n",
      " 0.61554193 0.65644167 0.6514222  0.67317342 0.66555126 0.65030679\n",
      " 0.6441718  0.64435775 0.61517009 0.59806658 0.59936794 0.61145191\n",
      " 0.60959287 0.57705894 0.57148171 0.58337982 0.57798846 0.59137387\n",
      " 0.59527794 0.59490611 0.61944598 0.64026775 0.6411972  0.6569995\n",
      " 0.65606991 0.7038483  0.68767424 0.6499349  0.67131438 0.65848666\n",
      " 0.62985686 0.57928982 0.5393196  0.52946643 0.50381115 0.51459378\n",
      " 0.49990702 0.5290946  0.5274215  0.56646218 0.55660908 0.54712771\n",
      " 0.51106156 0.51385013 0.49284256 0.50027885 0.51477975 0.52072879\n",
      " 0.50310749 0.50324553 0.50270808 0.50168914 0.50041169 0.49900496\n",
      " 0.49752653 0.49600059 0.49444139 0.492863   0.4912824  0.4897185\n",
      " 0.48819035 0.48671699 0.48531497 0.48399878 0.48278022 0.48166823\n",
      " 0.48066944 0.47978801 0.47902572 0.47838372 0.47786117 0.47745699\n",
      " 0.47716939 0.47699684 0.47693777 0.47699153]\n",
      "28 day output [[0.47715706]]\n",
      "29 day input [0.54861501 0.55400629 0.54545454 0.5337423  0.50734338 0.50306749\n",
      " 0.52128649 0.49079757 0.50604202 0.51385013 0.52630601 0.53262691\n",
      " 0.54266597 0.53262691 0.5575386  0.59713706 0.61052239 0.61572787\n",
      " 0.59713706 0.61591375 0.60364381 0.61070834 0.61554193 0.61554193\n",
      " 0.65644167 0.6514222  0.67317342 0.66555126 0.65030679 0.6441718\n",
      " 0.64435775 0.61517009 0.59806658 0.59936794 0.61145191 0.60959287\n",
      " 0.57705894 0.57148171 0.58337982 0.57798846 0.59137387 0.59527794\n",
      " 0.59490611 0.61944598 0.64026775 0.6411972  0.6569995  0.65606991\n",
      " 0.7038483  0.68767424 0.6499349  0.67131438 0.65848666 0.62985686\n",
      " 0.57928982 0.5393196  0.52946643 0.50381115 0.51459378 0.49990702\n",
      " 0.5290946  0.5274215  0.56646218 0.55660908 0.54712771 0.51106156\n",
      " 0.51385013 0.49284256 0.50027885 0.51477975 0.52072879 0.50310749\n",
      " 0.50324553 0.50270808 0.50168914 0.50041169 0.49900496 0.49752653\n",
      " 0.49600059 0.49444139 0.492863   0.4912824  0.4897185  0.48819035\n",
      " 0.48671699 0.48531497 0.48399878 0.48278022 0.48166823 0.48066944\n",
      " 0.47978801 0.47902572 0.47838372 0.47786117 0.47745699 0.47716939\n",
      " 0.47699684 0.47693777 0.47699153 0.47715706]\n",
      "29 day output [[0.47743475]]\n",
      "[[0.503107488155365], [0.5032455325126648], [0.5027080774307251], [0.5016891360282898], [0.5004116892814636], [0.49900496006011963], [0.49752652645111084], [0.49600058794021606], [0.4944413900375366], [0.4928629994392395], [0.4912824034690857], [0.489718496799469], [0.48819035291671753], [0.48671698570251465], [0.4853149652481079], [0.48399877548217773], [0.48278021812438965], [0.48166823387145996], [0.48066943883895874], [0.47978800535202026], [0.4790257215499878], [0.47838371992111206], [0.4778611660003662], [0.4774569869041443], [0.477169394493103], [0.47699683904647827], [0.47693777084350586], [0.47699153423309326], [0.4771570563316345], [0.47743475437164307]]\n"
     ]
    }
   ],
   "source": [
    "# demonstrate prediction for next 10 days\n",
    "from numpy import array\n",
    "\n",
    "lst_output=[]\n",
    "n_steps=100\n",
    "i=0\n",
    "while(i<30):\n",
    "    \n",
    "    if(len(temp_input)>100): # as we are getting 101 records We are shifting the dataset by 1\n",
    "        #print(temp_input)\n",
    "        x_input=np.array(temp_input[1:])\n",
    "        print(\"{} day input {}\".format(i,x_input))\n",
    "        x_input=x_input.reshape(1,-1)\n",
    "        x_input = x_input.reshape((1, n_steps, 1))\n",
    "        #print(x_input)\n",
    "        yhat = model.predict(x_input, verbose=0)\n",
    "        print(\"{} day output {}\".format(i,yhat))\n",
    "        temp_input.extend(yhat[0].tolist())\n",
    "        temp_input=temp_input[1:]\n",
    "        #print(temp_input)\n",
    "        lst_output.extend(yhat.tolist())\n",
    "        i=i+1\n",
    "    else: # reshape and pass the 100 days data and predicting\n",
    "        x_input = x_input.reshape((1, n_steps,1))\n",
    "        yhat = model.predict(x_input, verbose=0)\n",
    "        print(yhat[0])\n",
    "        temp_input.extend(yhat[0].tolist())\n",
    "        print(len(temp_input))\n",
    "        lst_output.extend(yhat.tolist())\n",
    "        i=i+1\n",
    "    \n",
    "\n",
    "print(lst_output)\n"
   ]
  },
  {
   "cell_type": "code",
   "execution_count": 43,
   "id": "821ac45b",
   "metadata": {},
   "outputs": [],
   "source": [
    "# PLOTTING\n",
    "day_new=np.arange(1,101) # 100 indexes\n",
    "day_pred=np.arange(101,131) # taking 30 days as we are predicting 30 days future"
   ]
  },
  {
   "cell_type": "code",
   "execution_count": 44,
   "id": "65e77f42",
   "metadata": {},
   "outputs": [
    {
     "data": {
      "text/plain": [
       "1259"
      ]
     },
     "execution_count": 44,
     "metadata": {},
     "output_type": "execute_result"
    }
   ],
   "source": [
    "len(df1)"
   ]
  },
  {
   "cell_type": "code",
   "execution_count": 45,
   "id": "fbcaf52b",
   "metadata": {},
   "outputs": [
    {
     "data": {
      "text/plain": [
       "[<matplotlib.lines.Line2D at 0x269e1894d60>]"
      ]
     },
     "execution_count": 45,
     "metadata": {},
     "output_type": "execute_result"
    },
    {
     "data": {
      "image/png": "[encoded data removed]",
      "text/plain": [
       "<Figure size 432x288 with 1 Axes>"
      ]
     },
     "metadata": {
      "needs_background": "light"
     },
     "output_type": "display_data"
    }
   ],
   "source": [
    "# 1159 to 1259 -- 100 days\n",
    "# Orange line is showing next 30 days prediction\n",
    "\n",
    "plt.plot(day_new,scaler.inverse_transform(df1[1159:]))\n",
    "plt.plot(day_pred,scaler.inverse_transform(lst_output))"
   ]
  },
  {
   "cell_type": "code",
   "execution_count": null,
   "id": "3b8d5fe9",
   "metadata": {},
   "outputs": [],
   "source": []
  }
 ],
 "metadata": {
  "kernelspec": {
   "display_name": "Python 3 (ipykernel)",
   "language": "python",
   "name": "python3"
  },
  "language_info": {
   "codemirror_mode": {
    "name": "ipython",
    "version": 3
   },
   "file_extension": ".py",
   "mimetype": "text/x-python",
   "name": "python",
   "nbconvert_exporter": "python",
   "pygments_lexer": "ipython3",
   "version": "3.9.13"
  }
 },
 "nbformat": 4,
 "nbformat_minor": 5
}
